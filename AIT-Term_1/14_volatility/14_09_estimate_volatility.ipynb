{
 "metadata": {
  "language_info": {
   "codemirror_mode": {
    "name": "ipython",
    "version": 3
   },
   "file_extension": ".py",
   "mimetype": "text/x-python",
   "name": "python",
   "nbconvert_exporter": "python",
   "pygments_lexer": "ipython3",
   "version": 3
  },
  "orig_nbformat": 2,
  "kernelspec": {
   "name": "python_defaultSpec_1596001649914",
   "display_name": "Python 3.8.3 32-bit"
  }
 },
 "nbformat": 4,
 "nbformat_minor": 2,
 "cells": [
  {
   "cell_type": "code",
   "execution_count": 51,
   "metadata": {},
   "outputs": [
    {
     "output_type": "execute_result",
     "data": {
      "text/plain": "0.004940582044719176"
     },
     "metadata": {},
     "execution_count": 51
    }
   ],
   "source": [
    "import pandas as pd\n",
    "import numpy as np\n",
    "\n",
    "prices = pd.read_csv('data.csv')\n",
    "prices = prices.set_index('date')\n",
    "\n",
    "log_return = np.log(prices/prices.shift(1))[1:]\n",
    "log_return_recent = log_return[::-1]['price']\n",
    "\n",
    "l = 0.7\n",
    "num = 0\n",
    "denom = 0\n",
    "\n",
    "for i in range(len(log_return_recent)):\n",
    "    num += (l ** i) * (log_return_recent[i] ** 2)\n",
    "    denom += l ** i\n",
    "\n",
    "last_vol = np.sqrt(num / denom)\n",
    "\n",
    "last_vol"
   ]
  }
 ]
}