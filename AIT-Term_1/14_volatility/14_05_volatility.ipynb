{
 "cells": [
  {
   "cell_type": "code",
   "execution_count": 1,
   "metadata": {
    "tags": []
   },
   "outputs": [
    {
     "output_type": "execute_result",
     "data": {
      "text/plain": "'B'"
     },
     "metadata": {},
     "execution_count": 1
    }
   ],
   "source": [
    "import pandas as pd\n",
    "import numpy as np\n",
    "\n",
    "prices = pd.read_csv('prices.csv')\n",
    "\n",
    "daily_prices = prices.set_index('date')\n",
    "tickers = prices.ticker.unique()\n",
    "\n",
    "vol_list = list()\n",
    "ticker_list = list()\n",
    "\n",
    "for ticker in tickers:\n",
    "    price = daily_prices[daily_prices['ticker'] == ticker]['price']\n",
    "    log_return = np.log(price/price.shift(1))\n",
    "    vol = log_return.std()\n",
    "    vol_list.append(vol)\n",
    "    ticker_list.append(ticker)\n",
    "\n",
    "vol_series = pd.Series(vol_list, ticker_list)\n",
    "ticker = vol_series.idxmax()\n",
    "\n",
    "ticker"
   ]
  }
 ],
 "metadata": {
  "kernelspec": {
   "display_name": "Python 3.8.3 32-bit",
   "language": "python",
   "name": "python_defaultSpec_1596099582871"
  },
  "language_info": {
   "codemirror_mode": {
    "name": "ipython",
    "version": 3
   },
   "file_extension": ".py",
   "mimetype": "text/x-python",
   "name": "python",
   "nbconvert_exporter": "python",
   "pygments_lexer": "ipython3",
   "version": "3.7.6"
  }
 },
 "nbformat": 4,
 "nbformat_minor": 2
}