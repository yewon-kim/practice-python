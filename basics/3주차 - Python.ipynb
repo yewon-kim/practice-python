{
 "cells": [
  {
   "cell_type": "markdown",
   "metadata": {
    "colab_type": "text",
    "id": "MtJfD1Itvl9S"
   },
   "source": [
    "## 3주차 - Python 과제\n",
    "\n",
    "코드 실행시 SyntaxError 가 발생하면 0점으로 배점합니다. 문제 요구사항을 모두 구현하지 못하셔도 작동되는 코드를 작성해주시기 바랍니다."
   ]
  },
  {
   "cell_type": "markdown",
   "metadata": {
    "colab_type": "text",
    "id": "sDT1SZ2QxB5N"
   },
   "source": [
    "### 1. 클래스 생성하기\n",
    "(10 점)\n",
    "\n",
    "#### 참고사항\n",
    "아래에 설명 드리는 내용중 **한글단어(eng)** 처럼 작성된 내용중에 영문 표기는 **클래스명** **함수명** 또는 **변수명** 으로 사용하시면 됩니다. \n",
    "\n",
    "#### 클래스 작성 방법\n",
    "\n",
    "계산기에서 더하기(add), 빼기(sub), 곱하기(mul), 나누기(div) 기능을 가진 계산기 클래스 (Calculator) 를 만들려고 합니다.\n",
    "사용자로부터 첫번째 숫자(num1), 두번째 숫자(num2) 로 특정한 이름 (여기에서는 first 를 사용) 객체를 만들면 위 4가지 기능(더하기, 빼기, 곱하기, 나누기) 를 사용할 수 있게 작성해주시면 됩니다."
   ]
  },
  {
   "cell_type": "code",
   "execution_count": 4,
   "metadata": {
    "colab": {},
    "colab_type": "code",
    "id": "jxeMH1NCwR1Z"
   },
   "outputs": [],
   "source": [
    "# 여기에 Class 를 작성해주세요.\n",
    "\n",
    "class Calculator:\n",
    "    \n",
    "    # 초기자(initializer)\n",
    "    def __init__(self, a, b):\n",
    "        # self.* : 인스턴스변수\n",
    "        self.a = a\n",
    "        self.b = b\n",
    "        \n",
    "    def add(self):\n",
    "        return self.a + self.b\n",
    "    \n",
    "    def sub(self):\n",
    "        return self.a - self.b\n",
    "    \n",
    "    def mul(self):\n",
    "        return self.a*self.b\n",
    "    \n",
    "    def div(self):\n",
    "        return self.a/self.b"
   ]
  },
  {
   "cell_type": "code",
   "execution_count": 7,
   "metadata": {
    "colab": {
     "base_uri": "https://localhost:8080/",
     "height": 34
    },
    "colab_type": "code",
    "executionInfo": {
     "elapsed": 702,
     "status": "ok",
     "timestamp": 1590543964011,
     "user": {
      "displayName": "박요한",
      "photoUrl": "",
      "userId": "02607528670005381837"
     },
     "user_tz": -540
    },
    "id": "f16-xbcRy4jH",
    "outputId": "11c9d5bc-2d1d-4f29-9a3c-e2a74a99a347"
   },
   "outputs": [
    {
     "data": {
      "text/plain": [
       "0.5"
      ]
     },
     "execution_count": 7,
     "metadata": {},
     "output_type": "execute_result"
    }
   ],
   "source": [
    "# 실행 결과 예 - div() 대신 다른 기능도 사용해보세요.\n",
    "first = Calculator(100, 200)\n",
    "first.div()"
   ]
  },
  {
   "cell_type": "markdown",
   "metadata": {
    "colab_type": "text",
    "id": "1K7FjL7I1AuF"
   },
   "source": [
    "### 2. 객체에 있는 total 변수값 직접 수정 방지하기\n",
    "(10 점)\n",
    "\n",
    "아래는 add() 를 통해 숫자를 입력받으며 이를 누적하여 더해주는 기능을 하는 클래스 입니다.\n",
    "객체에 있는 total 값을 외부에서 바로 접근하여 수정하지 못하도록 코드를 수정해주세요."
   ]
  },
  {
   "cell_type": "code",
   "execution_count": 31,
   "metadata": {
    "colab": {},
    "colab_type": "code",
    "id": "zXqKUjXRzdgp"
   },
   "outputs": [],
   "source": [
    "# 아래는 계산기(Calc) 클래스 입니다. 위 문제에서 요구하는대로 코드를 수정하여 완성해주세요.\n",
    "\n",
    "class Calc:\n",
    "    __total = 0\n",
    "    \n",
    "    def __init__(self):\n",
    "        pass\n",
    "\n",
    "    def add(self, num):\n",
    "        _total += num\n",
    "        return _total"
   ]
  },
  {
   "cell_type": "code",
   "execution_count": 32,
   "metadata": {
    "colab": {
     "base_uri": "https://localhost:8080/",
     "height": 34
    },
    "colab_type": "code",
    "executionInfo": {
     "elapsed": 1069,
     "status": "ok",
     "timestamp": 1590569693342,
     "user": {
      "displayName": "박요한",
      "photoUrl": "",
      "userId": "02607528670005381837"
     },
     "user_tz": -540
    },
    "id": "Tq326ph_OcFH",
    "outputId": "88946340-38f6-45e3-a3e7-7537944ea307"
   },
   "outputs": [
    {
     "data": {
      "text/plain": [
       "200"
      ]
     },
     "execution_count": 32,
     "metadata": {},
     "output_type": "execute_result"
    }
   ],
   "source": [
    "# 아래는 테스트코드 및 결과 예 입니다.\n",
    "# 아래와 같이 total 에 직접 값을 넣어도 total 숫자값이 변경되지 않도록 해주세요.\n",
    "\n",
    "calc = Calc()\n",
    "calc.total = 200\n",
    "calc.total"
   ]
  },
  {
   "cell_type": "markdown",
   "metadata": {
    "colab_type": "text",
    "id": "Im8SIzPWV7eG"
   },
   "source": [
    "### 3. is a 형태로 동물(Animal) / 인간(Human) 클래스 만들기\n",
    "(10 점)\n",
    "\n",
    "아래 '클래스 작성 안내' 를 읽고 is a 형태의 클래스를 작성해주세요.\n",
    "\n",
    "#### 클래스 작성 안내\n",
    "- 동물(```Animal```) 클래스엔 걷는시간(```walk_time```), 잠자는시간(```sleep_time```) 변수를 추가해주세요.\n",
    "- 인간(```Human```) 은 동물(```Animal```) 로 부터 상속 받아주는 코드를 작성해주세요.\n",
    "- 인간(```Human```) 은 말하다(```speak```) 라는 고유의 기능(method) 을 작성해주세요. 이 기능은 걷는시간(```walk_time```), 잠자는시간(```sleep_time```) 를 출력하는 기능(```print()``` 사용) 을 구현해주세요."
   ]
  },
  {
   "cell_type": "code",
   "execution_count": 38,
   "metadata": {
    "colab": {},
    "colab_type": "code",
    "id": "THdgEye2V1j6"
   },
   "outputs": [],
   "source": [
    "# 여기에 is a 형태로 작성해주세요.\n",
    "\n",
    "class Animal:\n",
    "    def __init__(self, walk_time, sleep_time):\n",
    "        self.walk_time = walk_time\n",
    "        self.sleep_time = sleep_time\n",
    "        \n",
    "class Human(Animal):\n",
    "    def speak(self):\n",
    "        print(f'저는 {self.walk_time} 시간 걸었고, {self.sleep_time} 시간 잠을 잤습니다.')"
   ]
  },
  {
   "cell_type": "code",
   "execution_count": 39,
   "metadata": {
    "colab": {
     "base_uri": "https://localhost:8080/",
     "height": 34
    },
    "colab_type": "code",
    "executionInfo": {
     "elapsed": 971,
     "status": "ok",
     "timestamp": 1590572473890,
     "user": {
      "displayName": "박요한",
      "photoUrl": "",
      "userId": "02607528670005381837"
     },
     "user_tz": -540
    },
    "id": "AFR_wWEigXw9",
    "outputId": "1f8932d8-7476-4a18-8d0d-a2e1bbeb14d7"
   },
   "outputs": [
    {
     "name": "stdout",
     "output_type": "stream",
     "text": [
      "저는 10 시간 걸었고, 20 시간 잠을 잤습니다.\n"
     ]
    }
   ],
   "source": [
    "# 아래는 결과 예 입니다. print() 내용은 반드시 아래와 동일한 형태가 아니어도 됩니다!\n",
    "first = Human(10, 20)\n",
    "first.speak()"
   ]
  },
  {
   "cell_type": "markdown",
   "metadata": {
    "colab_type": "text",
    "id": "-vrItLjQRIkF"
   },
   "source": [
    "### 4. has a \n",
    "(10 점)\n",
    "\n",
    "컴퓨터(Computer) 클래스의 인스턴스가 생성될때 CPU(Cpu), RAM(Ram) 클래스의 인스턴스도 생성되게 코드를 작성해주세요.\n",
    "\n",
    "#### 작성 안내\n",
    "- CPU(Cpu) 에는 속도(speed) 변수를 추가해주세요.\n",
    "- RAM(Ram) 에는 크기(size) 변수를 추가해주세요.\n",
    "- 컴퓨터(Computer) 클래스엔 com_info 라는 고유의 기능(method) 를 추가하시고 print() 를 통해 CPU, RAM 의 값을 출력해주세요."
   ]
  },
  {
   "cell_type": "code",
   "execution_count": 48,
   "metadata": {
    "colab": {},
    "colab_type": "code",
    "id": "53o057y9MRL0"
   },
   "outputs": [],
   "source": [
    "# 여기에 has a 형태로 작성해주세요.\n",
    "def Cpu(speed):\n",
    "    return speed\n",
    "\n",
    "def Ram(size):\n",
    "    return size\n",
    "\n",
    "class Computer:\n",
    "    def __init__(self, speed, size):\n",
    "        self.speed = speed\n",
    "        self.size = size\n",
    "    \n",
    "    def com_info(self):\n",
    "        print(f'CPU 속도 : {self.speed}, RAM 크기 : {self.size}')"
   ]
  },
  {
   "cell_type": "code",
   "execution_count": 49,
   "metadata": {
    "colab": {
     "base_uri": "https://localhost:8080/",
     "height": 34
    },
    "colab_type": "code",
    "executionInfo": {
     "elapsed": 802,
     "status": "ok",
     "timestamp": 1590640488784,
     "user": {
      "displayName": "박요한",
      "photoUrl": "",
      "userId": "02607528670005381837"
     },
     "user_tz": -540
    },
    "id": "mEXtycgrj4tT",
    "outputId": "0b8eda64-d33d-4325-a4df-c61fa2e10a1c",
    "scrolled": true
   },
   "outputs": [
    {
     "name": "stdout",
     "output_type": "stream",
     "text": [
      "CPU 속도 : 3.1 Ghz, RAM 크기 : 32GB\n"
     ]
    }
   ],
   "source": [
    "# 출력 예\n",
    "speed = Cpu(\"3.1 Ghz\")\n",
    "size = Ram(\"32GB\")\n",
    "first_com = Computer(speed, size)\n",
    "first_com.com_info()"
   ]
  },
  {
   "cell_type": "markdown",
   "metadata": {
    "colab_type": "text",
    "id": "ecTqX3bD1zcf"
   },
   "source": [
    "### 5. 예외처리 \n",
    "(10점)\n",
    "\n",
    "menu() 에 음식(food) 를 입력하면 함수 내부에 foods 딕셔너리에 있는 key 를 찾아 음식 가격을 반환하는(return) 기능을 구현하였습니다.\n",
    "\n",
    "foods 에 없는 음식이면 \"메뉴에 없는 음식입니다.\" 라는 메시지가 출력되게 함수를 수정해주세요.\n",
    "\n",
    "#### 참고사항\n",
    "기본적으로 제공되는 예외(exception) 에 대하여 아래 웹사이트를 참고하셔도 좋습니다.\n",
    "\n",
    "https://docs.python.org/3.6/library/exceptions.html#exception-hierarchy"
   ]
  },
  {
   "cell_type": "code",
   "execution_count": 50,
   "metadata": {
    "colab": {},
    "colab_type": "code",
    "id": "dmpj-UfGKFcL"
   },
   "outputs": [],
   "source": [
    "# 아래 함수를 수정하여 완성해주세요.\n",
    "def menu(food):\n",
    "    try:\n",
    "        foods = {\"짜장면\": 5000, \"탕수육\": 10000, \"짬뽕\": 6000, \"볶음밥\": 6000}\n",
    "        cost = foods[food]\n",
    "        return cost\n",
    "    except:\n",
    "        print('메뉴에 없는 음식입니다.')"
   ]
  },
  {
   "cell_type": "code",
   "execution_count": 51,
   "metadata": {
    "colab": {
     "base_uri": "https://localhost:8080/",
     "height": 34
    },
    "colab_type": "code",
    "executionInfo": {
     "elapsed": 866,
     "status": "ok",
     "timestamp": 1590583968650,
     "user": {
      "displayName": "박요한",
      "photoUrl": "",
      "userId": "02607528670005381837"
     },
     "user_tz": -540
    },
    "id": "TTdALygEKP47",
    "outputId": "ee8f7e94-a7b0-4843-bb19-b4f68e0c69cf"
   },
   "outputs": [
    {
     "data": {
      "text/plain": [
       "5000"
      ]
     },
     "execution_count": 51,
     "metadata": {},
     "output_type": "execute_result"
    }
   ],
   "source": [
    "# 실행 결과 예\n",
    "menu(\"짜장면\")"
   ]
  },
  {
   "cell_type": "code",
   "execution_count": 52,
   "metadata": {
    "colab": {
     "base_uri": "https://localhost:8080/",
     "height": 34
    },
    "colab_type": "code",
    "executionInfo": {
     "elapsed": 1667,
     "status": "ok",
     "timestamp": 1590583969710,
     "user": {
      "displayName": "박요한",
      "photoUrl": "",
      "userId": "02607528670005381837"
     },
     "user_tz": -540
    },
    "id": "TD3gt8skLjAN",
    "outputId": "cbd733f5-4f73-4172-84be-8053d7ebe57c"
   },
   "outputs": [
    {
     "name": "stdout",
     "output_type": "stream",
     "text": [
      "메뉴에 없는 음식입니다.\n"
     ]
    }
   ],
   "source": [
    "menu(\"깐풍기\")"
   ]
  },
  {
   "cell_type": "markdown",
   "metadata": {
    "colab_type": "text",
    "id": "hbFbiGB2P-JS"
   },
   "source": [
    "### 6. (이론) 상관계수\n",
    "(5 점)\n",
    "\n",
    "상관계수에 대해 간략하게 작성해주세요. "
   ]
  },
  {
   "cell_type": "markdown",
   "metadata": {
    "colab_type": "text",
    "id": "Soho3hquwlwn"
   },
   "source": [
    "여기에 마우스 더블클릭 후 작성해주세요."
   ]
  },
  {
   "cell_type": "markdown",
   "metadata": {
    "colab_type": "text",
    "id": "Bnr7P6rFws7X"
   },
   "source": [
    "### 7. (이론) 분산\n",
    "(5 점)\n",
    "\n",
    "분산에 대해 간략하게 작성해주세요."
   ]
  },
  {
   "cell_type": "markdown",
   "metadata": {
    "colab_type": "text",
    "id": "p1Tx4KsKw0lr"
   },
   "source": [
    "여기에 마우스 더블클릭 후 작성해주세요."
   ]
  },
  {
   "cell_type": "markdown",
   "metadata": {
    "colab_type": "text",
    "id": "AIeqWNegw1SQ"
   },
   "source": [
    "### 8. (이론) 공분산\n",
    "(5 점)\n",
    "\n",
    "공분산에 대해 간략하게 작성해주세요."
   ]
  },
  {
   "cell_type": "markdown",
   "metadata": {
    "colab_type": "text",
    "id": "gMCosq_yw6SS"
   },
   "source": [
    "여기에 마우스 더블클릭 후 작성해주세요."
   ]
  },
  {
   "cell_type": "markdown",
   "metadata": {
    "colab_type": "text",
    "id": "ISb6croxSKKc"
   },
   "source": [
    "### 9. NumPy 로 최대값, 최소값 가져오기\n",
    "(5 점)\n",
    "\n",
    "아래 NumPy array 에서 최대값과 최소값을 출력하는 코드를 작성해주세요."
   ]
  },
  {
   "cell_type": "code",
   "execution_count": 55,
   "metadata": {
    "colab": {},
    "colab_type": "code",
    "id": "-kppgK17SVIX"
   },
   "outputs": [],
   "source": [
    "import numpy as np\n",
    "n = np.array([10, 2, 3, 7])"
   ]
  },
  {
   "cell_type": "code",
   "execution_count": 57,
   "metadata": {
    "colab": {},
    "colab_type": "code",
    "id": "4kQ6YnacSYrp"
   },
   "outputs": [
    {
     "data": {
      "text/plain": [
       "10"
      ]
     },
     "execution_count": 57,
     "metadata": {},
     "output_type": "execute_result"
    }
   ],
   "source": [
    "# 답\n",
    "10"
   ]
  },
  {
   "cell_type": "code",
   "execution_count": 58,
   "metadata": {
    "colab": {},
    "colab_type": "code",
    "id": "9YfhdO9CSavK"
   },
   "outputs": [
    {
     "data": {
      "text/plain": [
       "10"
      ]
     },
     "execution_count": 58,
     "metadata": {},
     "output_type": "execute_result"
    }
   ],
   "source": [
    "# 출력 예\n",
    "n.max()"
   ]
  },
  {
   "cell_type": "markdown",
   "metadata": {
    "colab_type": "text",
    "id": "CYAPg_WcPR6m"
   },
   "source": [
    "### 10. NumPy 로 로또번호 생성하기\n",
    "(10 점)\n",
    "\n",
    "NumPy 패키지에 있는 랜덤 기능을 활용하여 로또번호(1~45 중 랜덤) 를 6게임을 생성하는 코드를 작성해주세요. 이 문제에서 랜덤 숫자가 중복 생성되는 문제는 무시하셔도 됩니다."
   ]
  },
  {
   "cell_type": "code",
   "execution_count": 89,
   "metadata": {
    "colab": {},
    "colab_type": "code",
    "id": "yWfFPbgBQ890"
   },
   "outputs": [],
   "source": [
    "# 여기에 NumPy 코드를 작성해주세요.\n",
    "import numpy as np\n",
    "\n",
    "def lotto():\n",
    "    numbers = np.array([])\n",
    "    \n",
    "    for i in range(6):\n",
    "        number = np.random.randint(1, 46, size=6)\n",
    "        numbers = np.append(numbers, number)\n",
    "        \n",
    "    return numbers.reshape(-1, 6)"
   ]
  },
  {
   "cell_type": "code",
   "execution_count": 90,
   "metadata": {
    "colab": {
     "base_uri": "https://localhost:8080/",
     "height": 102
    },
    "colab_type": "code",
    "executionInfo": {
     "elapsed": 722,
     "status": "ok",
     "timestamp": 1590635638536,
     "user": {
      "displayName": "박요한",
      "photoUrl": "",
      "userId": "02607528670005381837"
     },
     "user_tz": -540
    },
    "id": "zxWCXbJFQ_vP",
    "outputId": "91798d55-6137-4991-c48e-6aa612b076d5"
   },
   "outputs": [
    {
     "data": {
      "text/plain": [
       "array([[20., 36.,  7., 22., 20., 28.],\n",
       "       [14., 23., 25.,  6.,  9., 45.],\n",
       "       [18.,  1., 16.,  6.,  1., 15.],\n",
       "       [43., 21., 16.,  1., 32., 37.],\n",
       "       [26., 24., 11., 21., 11., 29.],\n",
       "       [ 2., 15.,  4., 39., 15., 28.]])"
      ]
     },
     "execution_count": 90,
     "metadata": {},
     "output_type": "execute_result"
    }
   ],
   "source": [
    "# 출력 예\n",
    "lotto()"
   ]
  },
  {
   "cell_type": "markdown",
   "metadata": {
    "colab_type": "text",
    "id": "DKjpb084iUXy"
   },
   "source": [
    "### 11. DataFrame 특정 행 값 출력하기\n",
    "(10 점)\n",
    "\n",
    "아래 DataFrame 에서 3번째 행 을 출력하는 코드를 작성해주세요."
   ]
  },
  {
   "cell_type": "code",
   "execution_count": 96,
   "metadata": {
    "colab": {
     "base_uri": "https://localhost:8080/",
     "height": 173
    },
    "colab_type": "code",
    "executionInfo": {
     "elapsed": 731,
     "status": "ok",
     "timestamp": 1590640328479,
     "user": {
      "displayName": "박요한",
      "photoUrl": "",
      "userId": "02607528670005381837"
     },
     "user_tz": -540
    },
    "id": "eEuz2V6yij6o",
    "outputId": "89091c21-5ac4-4011-d646-de38d595a41c"
   },
   "outputs": [
    {
     "data": {
      "text/html": [
       "<div>\n",
       "<style scoped>\n",
       "    .dataframe tbody tr th:only-of-type {\n",
       "        vertical-align: middle;\n",
       "    }\n",
       "\n",
       "    .dataframe tbody tr th {\n",
       "        vertical-align: top;\n",
       "    }\n",
       "\n",
       "    .dataframe thead th {\n",
       "        text-align: right;\n",
       "    }\n",
       "</style>\n",
       "<table border=\"1\" class=\"dataframe\">\n",
       "  <thead>\n",
       "    <tr style=\"text-align: right;\">\n",
       "      <th></th>\n",
       "      <th>Name</th>\n",
       "      <th>Date</th>\n",
       "      <th>Email</th>\n",
       "      <th>Score</th>\n",
       "    </tr>\n",
       "  </thead>\n",
       "  <tbody>\n",
       "    <tr>\n",
       "      <th>0</th>\n",
       "      <td>Huh</td>\n",
       "      <td>2013-01-02</td>\n",
       "      <td>huh@gmail.com</td>\n",
       "      <td>70</td>\n",
       "    </tr>\n",
       "    <tr>\n",
       "      <th>1</th>\n",
       "      <td>Jo</td>\n",
       "      <td>2017-06-12</td>\n",
       "      <td>jojo@daum.net</td>\n",
       "      <td>99</td>\n",
       "    </tr>\n",
       "    <tr>\n",
       "      <th>2</th>\n",
       "      <td>Park</td>\n",
       "      <td>2018-03-11</td>\n",
       "      <td>park@naver.com</td>\n",
       "      <td>66</td>\n",
       "    </tr>\n",
       "    <tr>\n",
       "      <th>3</th>\n",
       "      <td>Maeng</td>\n",
       "      <td>2019-10-22</td>\n",
       "      <td>maeng@hotmail.com</td>\n",
       "      <td>43</td>\n",
       "    </tr>\n",
       "  </tbody>\n",
       "</table>\n",
       "</div>"
      ],
      "text/plain": [
       "    Name       Date              Email  Score\n",
       "0    Huh 2013-01-02      huh@gmail.com     70\n",
       "1     Jo 2017-06-12      jojo@daum.net     99\n",
       "2   Park 2018-03-11     park@naver.com     66\n",
       "3  Maeng 2019-10-22  maeng@hotmail.com     43"
      ]
     },
     "execution_count": 96,
     "metadata": {},
     "output_type": "execute_result"
    }
   ],
   "source": [
    "import pandas as pd\n",
    "\n",
    "df = pd.DataFrame({\n",
    "    'Name': ['Huh', 'Jo', 'Park', 'Maeng'],\n",
    "    'Date': [pd.Timestamp('20130102'), pd.Timestamp('20170612'), pd.Timestamp('20180311'), pd.Timestamp('20191022')],\n",
    "    'Email': ['huh@gmail.com', 'jojo@daum.net', 'park@naver.com', 'maeng@hotmail.com'],\n",
    "    'Score': [70, 99, 66, 43]                                                                \n",
    "})\n",
    "\n",
    "df"
   ]
  },
  {
   "cell_type": "code",
   "execution_count": 101,
   "metadata": {
    "colab": {},
    "colab_type": "code",
    "id": "CvCyokQzjVj2"
   },
   "outputs": [
    {
     "data": {
      "text/plain": [
       "Name                    Park\n",
       "Date     2018-03-11 00:00:00\n",
       "Email         park@naver.com\n",
       "Score                     66\n",
       "Name: 2, dtype: object"
      ]
     },
     "execution_count": 101,
     "metadata": {},
     "output_type": "execute_result"
    }
   ],
   "source": [
    "# 여기에 코드를 작성해주세요.\n",
    "\n",
    "df.iloc[2]"
   ]
  },
  {
   "cell_type": "code",
   "execution_count": null,
   "metadata": {
    "colab": {
     "base_uri": "https://localhost:8080/",
     "height": 102
    },
    "colab_type": "code",
    "executionInfo": {
     "elapsed": 1018,
     "status": "ok",
     "timestamp": 1590640362895,
     "user": {
      "displayName": "박요한",
      "photoUrl": "",
      "userId": "02607528670005381837"
     },
     "user_tz": -540
    },
    "id": "JSgeAsQMiU6H",
    "outputId": "55670fb6-3932-487a-b130-d15141dd00bf"
   },
   "outputs": [
    {
     "data": {
      "text/plain": [
       "Name                    Park\n",
       "Date     2018-03-11 00:00:00\n",
       "Email         park@naver.com\n",
       "Score                     66\n",
       "Name: 2, dtype: object"
      ]
     },
     "execution_count": 26,
     "metadata": {
      "tags": []
     },
     "output_type": "execute_result"
    }
   ],
   "source": [
    "# 출력 예"
   ]
  },
  {
   "cell_type": "markdown",
   "metadata": {
    "colab_type": "text",
    "id": "A_GP2MlhPRqo"
   },
   "source": [
    "### 12. 누적 Quiz 점수 평균 내기\n",
    "(10 점)\n",
    "\n",
    "아래 \"A\" 와 \"B\" 학생의 누적 점수 입니다. Name 컬럼을 기준으로 두 명의 점수를 각각 평균내는 코드를 작성해주세요.\n",
    "\n",
    "(힌트 : groupby)"
   ]
  },
  {
   "cell_type": "code",
   "execution_count": 108,
   "metadata": {
    "colab": {
     "base_uri": "https://localhost:8080/",
     "height": 266
    },
    "colab_type": "code",
    "executionInfo": {
     "elapsed": 799,
     "status": "ok",
     "timestamp": 1590639880236,
     "user": {
      "displayName": "박요한",
      "photoUrl": "",
      "userId": "02607528670005381837"
     },
     "user_tz": -540
    },
    "id": "9Z2_UVzyPV6k",
    "outputId": "9fd934de-5af4-4123-bb6d-2f1b0d43a555",
    "scrolled": true
   },
   "outputs": [
    {
     "data": {
      "text/html": [
       "<div>\n",
       "<style scoped>\n",
       "    .dataframe tbody tr th:only-of-type {\n",
       "        vertical-align: middle;\n",
       "    }\n",
       "\n",
       "    .dataframe tbody tr th {\n",
       "        vertical-align: top;\n",
       "    }\n",
       "\n",
       "    .dataframe thead th {\n",
       "        text-align: right;\n",
       "    }\n",
       "</style>\n",
       "<table border=\"1\" class=\"dataframe\">\n",
       "  <thead>\n",
       "    <tr style=\"text-align: right;\">\n",
       "      <th></th>\n",
       "      <th>Name</th>\n",
       "      <th>Score</th>\n",
       "    </tr>\n",
       "  </thead>\n",
       "  <tbody>\n",
       "    <tr>\n",
       "      <th>0</th>\n",
       "      <td>A</td>\n",
       "      <td>30</td>\n",
       "    </tr>\n",
       "    <tr>\n",
       "      <th>1</th>\n",
       "      <td>B</td>\n",
       "      <td>60</td>\n",
       "    </tr>\n",
       "    <tr>\n",
       "      <th>2</th>\n",
       "      <td>B</td>\n",
       "      <td>70</td>\n",
       "    </tr>\n",
       "    <tr>\n",
       "      <th>3</th>\n",
       "      <td>A</td>\n",
       "      <td>40</td>\n",
       "    </tr>\n",
       "    <tr>\n",
       "      <th>4</th>\n",
       "      <td>A</td>\n",
       "      <td>80</td>\n",
       "    </tr>\n",
       "    <tr>\n",
       "      <th>5</th>\n",
       "      <td>A</td>\n",
       "      <td>20</td>\n",
       "    </tr>\n",
       "    <tr>\n",
       "      <th>6</th>\n",
       "      <td>B</td>\n",
       "      <td>75</td>\n",
       "    </tr>\n",
       "  </tbody>\n",
       "</table>\n",
       "</div>"
      ],
      "text/plain": [
       "  Name  Score\n",
       "0    A     30\n",
       "1    B     60\n",
       "2    B     70\n",
       "3    A     40\n",
       "4    A     80\n",
       "5    A     20\n",
       "6    B     75"
      ]
     },
     "execution_count": 108,
     "metadata": {},
     "output_type": "execute_result"
    }
   ],
   "source": [
    "import pandas as pd\n",
    "score_dict = {\n",
    "    \"Name\": [\"A\", \"B\", \"B\", \"A\", \"A\", \"A\", \"B\"],\n",
    "    \"Score\": [30, 60, 70, 40, 80, 20, 75]\n",
    "}\n",
    "df_score = pd.DataFrame(score_dict)\n",
    "df_score"
   ]
  },
  {
   "cell_type": "code",
   "execution_count": 117,
   "metadata": {
    "colab": {},
    "colab_type": "code",
    "id": "Nr0oqhQbiFDG"
   },
   "outputs": [
    {
     "data": {
      "text/html": [
       "<div>\n",
       "<style scoped>\n",
       "    .dataframe tbody tr th:only-of-type {\n",
       "        vertical-align: middle;\n",
       "    }\n",
       "\n",
       "    .dataframe tbody tr th {\n",
       "        vertical-align: top;\n",
       "    }\n",
       "\n",
       "    .dataframe thead th {\n",
       "        text-align: right;\n",
       "    }\n",
       "</style>\n",
       "<table border=\"1\" class=\"dataframe\">\n",
       "  <thead>\n",
       "    <tr style=\"text-align: right;\">\n",
       "      <th></th>\n",
       "      <th>Score</th>\n",
       "    </tr>\n",
       "    <tr>\n",
       "      <th>Name</th>\n",
       "      <th></th>\n",
       "    </tr>\n",
       "  </thead>\n",
       "  <tbody>\n",
       "    <tr>\n",
       "      <th>A</th>\n",
       "      <td>42.500000</td>\n",
       "    </tr>\n",
       "    <tr>\n",
       "      <th>B</th>\n",
       "      <td>68.333333</td>\n",
       "    </tr>\n",
       "  </tbody>\n",
       "</table>\n",
       "</div>"
      ],
      "text/plain": [
       "          Score\n",
       "Name           \n",
       "A     42.500000\n",
       "B     68.333333"
      ]
     },
     "execution_count": 117,
     "metadata": {},
     "output_type": "execute_result"
    }
   ],
   "source": [
    "# 여기에 코드를 작성해주세요.\n",
    "df_score.groupby('Name').mean()\n",
    "\n",
    "# pd.DataFrame({\n",
    "#     'Name': df_score.groupby('Name').mean(),\n",
    "#     'Score': df_score.groupby('Name').mean()\n",
    "# })"
   ]
  },
  {
   "cell_type": "code",
   "execution_count": null,
   "metadata": {
    "colab": {
     "base_uri": "https://localhost:8080/",
     "height": 111
    },
    "colab_type": "code",
    "executionInfo": {
     "elapsed": 706,
     "status": "ok",
     "timestamp": 1590639944003,
     "user": {
      "displayName": "박요한",
      "photoUrl": "",
      "userId": "02607528670005381837"
     },
     "user_tz": -540
    },
    "id": "OR3BnYFwhkFp",
    "outputId": "4fb47a93-e8a1-45fb-e3f5-08a82d54ced5"
   },
   "outputs": [
    {
     "data": {
      "text/html": [
       "<div>\n",
       "<style scoped>\n",
       "    .dataframe tbody tr th:only-of-type {\n",
       "        vertical-align: middle;\n",
       "    }\n",
       "\n",
       "    .dataframe tbody tr th {\n",
       "        vertical-align: top;\n",
       "    }\n",
       "\n",
       "    .dataframe thead th {\n",
       "        text-align: right;\n",
       "    }\n",
       "</style>\n",
       "<table border=\"1\" class=\"dataframe\">\n",
       "  <thead>\n",
       "    <tr style=\"text-align: right;\">\n",
       "      <th></th>\n",
       "      <th>Name</th>\n",
       "      <th>Score</th>\n",
       "    </tr>\n",
       "  </thead>\n",
       "  <tbody>\n",
       "    <tr>\n",
       "      <th>0</th>\n",
       "      <td>A</td>\n",
       "      <td>42.500000</td>\n",
       "    </tr>\n",
       "    <tr>\n",
       "      <th>1</th>\n",
       "      <td>B</td>\n",
       "      <td>68.333333</td>\n",
       "    </tr>\n",
       "  </tbody>\n",
       "</table>\n",
       "</div>"
      ],
      "text/plain": [
       "  Name      Score\n",
       "0    A  42.500000\n",
       "1    B  68.333333"
      ]
     },
     "execution_count": 22,
     "metadata": {
      "tags": []
     },
     "output_type": "execute_result"
    }
   ],
   "source": [
    "# 결과 예\n",
    "df_score_mean"
   ]
  }
 ],
 "metadata": {
  "colab": {
   "collapsed_sections": [],
   "name": "3주차 - Python.ipynb",
   "provenance": []
  },
  "kernelspec": {
   "display_name": "Python 3",
   "language": "python",
   "name": "python3"
  },
  "language_info": {
   "codemirror_mode": {
    "name": "ipython",
    "version": 3
   },
   "file_extension": ".py",
   "mimetype": "text/x-python",
   "name": "python",
   "nbconvert_exporter": "python",
   "pygments_lexer": "ipython3",
   "version": "3.6.10"
  }
 },
 "nbformat": 4,
 "nbformat_minor": 1
}
