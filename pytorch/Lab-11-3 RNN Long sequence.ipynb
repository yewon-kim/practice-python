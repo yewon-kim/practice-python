{
 "cells": [
  {
   "cell_type": "markdown",
   "metadata": {},
   "source": [
    "# Lab-11-3 RNN Long sequence"
   ]
  },
  {
   "cell_type": "code",
   "execution_count": 1,
   "metadata": {},
   "outputs": [],
   "source": [
    "import numpy as np\n",
    "import torch\n",
    "from torch import nn\n",
    "from torch import optim"
   ]
  },
  {
   "cell_type": "code",
   "execution_count": 2,
   "metadata": {},
   "outputs": [],
   "source": [
    "sentence = open(\"./texts/johndenver_countryroads_lyrics.txt\", 'r')"
   ]
  },
  {
   "cell_type": "code",
   "execution_count": 3,
   "metadata": {
    "scrolled": false
   },
   "outputs": [
    {
     "name": "stdout",
     "output_type": "stream",
     "text": [
      "Almost heaven, West Virginia Blue Ridge Mountains, Shenandoah River Life is old there, older than the trees Younger than the mountains, growin' like a breeze Country roads, take me home To the place I belong West Virginia, mountain mama Take me home, country roads All my memories gather 'round her Miner's lady, stranger to blue water Dark and dusty, painted on the sky Misty taste of moonshine, teardrop in my eye Country roads, take me home To the place I belong West Virginia, mountain mama Take me home, country roads I hear her voice in the mornin' hour, she calls me The radio reminds me of my home far away Driving down the road, I get a feeling That I should've been home yesterday, yesterday Country roads, take me home To the place I belong West Virginia, mountain mama Take me home, country roads Country roads, take me home To the place I belong West Virginia, mountain mama Take me home, country roads\n"
     ]
    }
   ],
   "source": [
    "text = sentence.readline()\n",
    "print(text)"
   ]
  },
  {
   "cell_type": "code",
   "execution_count": 4,
   "metadata": {},
   "outputs": [
    {
     "data": {
      "text/plain": [
       "'almost heaven west virginia blue ridge mountains shenandoah river life is old there older than the trees younger than the mountains growin like a breeze country roads take me home to the place i belong west virginia mountain mama take me home country roads all my memories gather round her miners lady stranger to blue water dark and dusty painted on the sky misty taste of moonshine teardrop in my eye country roads take me home to the place i belong west virginia mountain mama take me home country roads i hear her voice in the mornin hour she calls me the radio reminds me of my home far away driving down the road i get a feeling that i shouldve been home yesterday yesterday country roads take me home to the place i belong west virginia mountain mama take me home country roads country roads take me home to the place i belong west virginia mountain mama take me home country roads'"
      ]
     },
     "execution_count": 4,
     "metadata": {},
     "output_type": "execute_result"
    }
   ],
   "source": [
    "text = text.replace(',', '')\\\n",
    "           .replace('.', '')\\\n",
    "           .replace('\"', '')\\\n",
    "           .replace(\"'\", '')\\\n",
    "           .lower()\n",
    "text"
   ]
  },
  {
   "cell_type": "code",
   "execution_count": 5,
   "metadata": {},
   "outputs": [],
   "source": [
    "char_set = list(set(text))\n",
    "char_dic = {c: i for i, c in enumerate(char_set)}"
   ]
  },
  {
   "cell_type": "code",
   "execution_count": 6,
   "metadata": {},
   "outputs": [],
   "source": [
    "dic_size = len(char_dic)"
   ]
  },
  {
   "cell_type": "code",
   "execution_count": 7,
   "metadata": {},
   "outputs": [],
   "source": [
    "x_data = []\n",
    "y_data = []"
   ]
  },
  {
   "cell_type": "code",
   "execution_count": 8,
   "metadata": {},
   "outputs": [],
   "source": [
    "seq_length = 40"
   ]
  },
  {
   "cell_type": "code",
   "execution_count": 9,
   "metadata": {},
   "outputs": [
    {
     "name": "stdout",
     "output_type": "stream",
     "text": [
      "0 almost heaven west virginia blue ridge m >>> lmost heaven west virginia blue ridge mo\n"
     ]
    }
   ],
   "source": [
    "for i in range(len(text) - seq_length):\n",
    "    x_str = text[i : i+seq_length]\n",
    "    y_str = text[i+1 : i+seq_length+1]\n",
    "    print(i, x_str, '>>>', y_str)\n",
    "    \n",
    "    x_data.append([char_dic[c] for c in x_str])\n",
    "    y_data.append([char_dic[c] for c in y_str])\n",
    "    break"
   ]
  },
  {
   "cell_type": "code",
   "execution_count": 10,
   "metadata": {},
   "outputs": [],
   "source": [
    "x_one_hot = [np.eye(dic_size)[x] for x in x_data]"
   ]
  },
  {
   "cell_type": "code",
   "execution_count": 11,
   "metadata": {},
   "outputs": [],
   "source": [
    "X = torch.FloatTensor(x_one_hot)\n",
    "Y = torch.LongTensor(y_data)"
   ]
  },
  {
   "cell_type": "markdown",
   "metadata": {},
   "source": [
    "## Hyperparameters"
   ]
  },
  {
   "cell_type": "code",
   "execution_count": 12,
   "metadata": {},
   "outputs": [],
   "source": [
    "input_size = dic_size\n",
    "hidden_size = dic_size\n",
    "learning_rate = 1e-1"
   ]
  },
  {
   "cell_type": "markdown",
   "metadata": {},
   "source": [
    "## Model"
   ]
  },
  {
   "cell_type": "code",
   "execution_count": 13,
   "metadata": {},
   "outputs": [],
   "source": [
    "class Net(nn.Module):\n",
    "    def __init__(self, input_dim, hidden_dim, layers):\n",
    "        super(Net, self).__init__()\n",
    "        self.rnn = nn.RNN(input_dim, hidden_dim, num_layers=layers, batch_first=True)\n",
    "        self.fc = nn.Linear(hidden_dim, hidden_dim, bias=True)\n",
    "    \n",
    "    def forward(self, x):\n",
    "        x, _status = self.rnn(x)\n",
    "        x = self.fc(x)\n",
    "        return x"
   ]
  },
  {
   "cell_type": "code",
   "execution_count": 14,
   "metadata": {},
   "outputs": [],
   "source": [
    "net = Net(input_size, hidden_size, 2)\n",
    "criterion = nn.CrossEntropyLoss()\n",
    "optimizer = optim.Adam(net.parameters(), learning_rate)"
   ]
  },
  {
   "cell_type": "markdown",
   "metadata": {},
   "source": [
    "## Train"
   ]
  },
  {
   "cell_type": "code",
   "execution_count": 15,
   "metadata": {},
   "outputs": [
    {
     "name": "stdout",
     "output_type": "stream",
     "text": [
      "Epoch: 0 Loss: 3.178008556365967\n",
      "0 v ffff  fffff  fff  ff ffff f fs     f  \n",
      "Epoch: 10 Loss: 1.8780879974365234\n",
      "0 lmost me ion t it mon e me mn e sense mo\n",
      "Epoch: 20 Loss: 0.49211448431015015\n",
      "0 lmost heameniwest ridgenma blue ridgenmo\n",
      "Epoch: 30 Loss: 0.08612872660160065\n",
      "0 lmost heaven west virginia blue ridge mo\n",
      "Epoch: 40 Loss: 0.021281754598021507\n",
      "0 lmost heaven west virginia blue ridge mo\n",
      "Epoch: 50 Loss: 0.007485988549888134\n",
      "0 lmost heaven west virginia blue ridge mo\n",
      "Epoch: 60 Loss: 0.003886774880811572\n",
      "0 lmost heaven west virginia blue ridge mo\n",
      "Epoch: 70 Loss: 0.002695688745006919\n",
      "0 lmost heaven west virginia blue ridge mo\n",
      "Epoch: 80 Loss: 0.0021736605558544397\n",
      "0 lmost heaven west virginia blue ridge mo\n",
      "Epoch: 90 Loss: 0.0018448485061526299\n",
      "0 lmost heaven west virginia blue ridge mo\n"
     ]
    }
   ],
   "source": [
    "epochs = 100\n",
    "for epoch in range(epochs):\n",
    "    optimizer.zero_grad()\n",
    "    outputs = net(X)\n",
    "    loss = criterion(outputs.view(-1, dic_size), Y.view(-1))\n",
    "    loss.backward()\n",
    "    optimizer.step()\n",
    "    \n",
    "    results = outputs.argmax(dim=2)\n",
    "    predict_str = \"\"\n",
    "    if epoch % 10 == 0:\n",
    "        for j, result in enumerate(results):\n",
    "            print('Epoch:', epoch, 'Loss:', loss.item())\n",
    "            print(j, ''.join([char_set[t] for t in result]))\n",
    "            if j == 0:\n",
    "                predict_str += ''.join([char_set[t] for t in result])\n",
    "            else:\n",
    "                predict_str += char_set[result[-1]]"
   ]
  },
  {
   "cell_type": "markdown",
   "metadata": {},
   "source": [
    "## close()"
   ]
  },
  {
   "cell_type": "code",
   "execution_count": 16,
   "metadata": {},
   "outputs": [],
   "source": [
    "sentence.close()"
   ]
  }
 ],
 "metadata": {
  "kernelspec": {
   "display_name": "Python 3",
   "language": "python",
   "name": "python3"
  },
  "language_info": {
   "codemirror_mode": {
    "name": "ipython",
    "version": 3
   },
   "file_extension": ".py",
   "mimetype": "text/x-python",
   "name": "python",
   "nbconvert_exporter": "python",
   "pygments_lexer": "ipython3",
   "version": "3.7.1"
  }
 },
 "nbformat": 4,
 "nbformat_minor": 4
}
