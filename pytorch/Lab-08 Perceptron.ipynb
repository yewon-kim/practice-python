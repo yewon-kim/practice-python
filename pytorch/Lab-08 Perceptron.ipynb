{
 "cells": [
  {
   "cell_type": "markdown",
   "metadata": {},
   "source": [
    "# Lab-08-1 Perceptron"
   ]
  },
  {
   "cell_type": "code",
   "execution_count": 1,
   "metadata": {},
   "outputs": [],
   "source": [
    "import torch\n",
    "import torch.nn.functional as F"
   ]
  },
  {
   "cell_type": "markdown",
   "metadata": {},
   "source": [
    "## Single Layer Perceptron"
   ]
  },
  {
   "cell_type": "markdown",
   "metadata": {},
   "source": [
    "#### Can XOR be solved with a single perceptron?"
   ]
  },
  {
   "cell_type": "code",
   "execution_count": 2,
   "metadata": {},
   "outputs": [],
   "source": [
    "X = torch.FloatTensor([[0, 0], [0, 1], [1, 0], [1, 1]])\n",
    "Y = torch.FloatTensor([[0], [1], [1], [0]])"
   ]
  },
  {
   "cell_type": "code",
   "execution_count": 3,
   "metadata": {},
   "outputs": [],
   "source": [
    "linear = torch.nn.Linear(X.size(1), Y.size(1), bias=True)\n",
    "sigmoid = torch.nn.Sigmoid()\n",
    "model = torch.nn.Sequential(linear, sigmoid)"
   ]
  },
  {
   "cell_type": "code",
   "execution_count": 4,
   "metadata": {},
   "outputs": [],
   "source": [
    "criterion = torch.nn.BCELoss()\n",
    "optimizer = torch.optim.SGD(model.parameters(), lr=0.1)"
   ]
  },
  {
   "cell_type": "code",
   "execution_count": 5,
   "metadata": {},
   "outputs": [
    {
     "name": "stdout",
     "output_type": "stream",
     "text": [
      "Epoch: 0/10000 Cost: 0.722505\n",
      "Epoch: 1000/10000 Cost: 0.693147\n",
      "Epoch: 2000/10000 Cost: 0.693147\n",
      "Epoch: 3000/10000 Cost: 0.693147\n",
      "Epoch: 4000/10000 Cost: 0.693147\n",
      "Epoch: 5000/10000 Cost: 0.693147\n",
      "Epoch: 6000/10000 Cost: 0.693147\n",
      "Epoch: 7000/10000 Cost: 0.693147\n",
      "Epoch: 8000/10000 Cost: 0.693147\n",
      "Epoch: 9000/10000 Cost: 0.693147\n"
     ]
    }
   ],
   "source": [
    "n_epoch = 10**4\n",
    "for epoch in range(n_epoch):\n",
    "    optimizer.zero_grad()\n",
    "    output = model(X)\n",
    "    loss = criterion(output, Y)\n",
    "    loss.backward()\n",
    "    optimizer.step()\n",
    "    \n",
    "    if epoch % 1000 == 0:\n",
    "        print('Epoch: {}/{} Cost: {:6f}'.format(epoch, n_epoch, loss.item()))"
   ]
  },
  {
   "cell_type": "code",
   "execution_count": 6,
   "metadata": {},
   "outputs": [
    {
     "data": {
      "text/plain": [
       "tensor([[0.5000],\n",
       "        [0.5000],\n",
       "        [0.5000],\n",
       "        [0.5000]], grad_fn=<SigmoidBackward>)"
      ]
     },
     "execution_count": 6,
     "metadata": {},
     "output_type": "execute_result"
    }
   ],
   "source": [
    "output"
   ]
  },
  {
   "cell_type": "markdown",
   "metadata": {},
   "source": [
    "# Lab-08-2 Multi Layer Perceptron"
   ]
  },
  {
   "cell_type": "markdown",
   "metadata": {},
   "source": [
    "## Backpropagation"
   ]
  },
  {
   "cell_type": "code",
   "execution_count": 7,
   "metadata": {},
   "outputs": [],
   "source": [
    "X = torch.FloatTensor([[0, 0], [0, 1], [1, 0], [1, 1]])\n",
    "Y = torch.FloatTensor([[0], [1], [1], [0]])"
   ]
  },
  {
   "cell_type": "code",
   "execution_count": 8,
   "metadata": {},
   "outputs": [],
   "source": [
    "w1 = torch.rand(2, 2)\n",
    "b1 = torch.zeros(2)\n",
    "w2 = torch.rand(2, 1)\n",
    "b2 = torch.zeros(1)"
   ]
  },
  {
   "cell_type": "code",
   "execution_count": 9,
   "metadata": {},
   "outputs": [],
   "source": [
    "def sigmoid(x):\n",
    "    return 1 / (1 + torch.exp(-x))"
   ]
  },
  {
   "cell_type": "code",
   "execution_count": 10,
   "metadata": {},
   "outputs": [],
   "source": [
    "def sigmoid_prime(x):\n",
    "    return sigmoid(x) * (1 - sigmoid(x))"
   ]
  },
  {
   "cell_type": "code",
   "execution_count": 11,
   "metadata": {},
   "outputs": [
    {
     "name": "stdout",
     "output_type": "stream",
     "text": [
      "Epoch: 0/10000 Cost: 0.720170\n",
      "Epoch: 1000/10000 Cost: 0.004116\n",
      "Epoch: 2000/10000 Cost: 0.001796\n",
      "Epoch: 3000/10000 Cost: 0.001143\n",
      "Epoch: 4000/10000 Cost: 0.000836\n",
      "Epoch: 5000/10000 Cost: 0.000659\n",
      "Epoch: 6000/10000 Cost: 0.000544\n",
      "Epoch: 7000/10000 Cost: 0.000462\n",
      "Epoch: 8000/10000 Cost: 0.000402\n",
      "Epoch: 9000/10000 Cost: 0.000356\n"
     ]
    }
   ],
   "source": [
    "learning_rate = 1\n",
    "n_epoch = 10000\n",
    "for epoch in range(n_epoch):\n",
    "    # Forward\n",
    "    z1 = torch.matmul(X, w1) + b1\n",
    "    a1 = sigmoid(z1)\n",
    "    z2 = torch.matmul(a1, w2) + b2\n",
    "    a2 = sigmoid(z2)\n",
    "    cost = -torch.mean(Y * torch.log(a2) + (1-Y) * torch.log(1-a2))\n",
    "    \n",
    "    # Backward\n",
    "    d_z2 = a2 - Y\n",
    "    d_w2 = torch.matmul(torch.transpose(a1, 0, 1), d_z2)\n",
    "    d_b2 = d_z2\n",
    "    \n",
    "    d_a1 = torch.matmul(d_z2, torch.transpose(w2, 0, 1))\n",
    "    d_z1 = d_a1 * sigmoid_prime(z1)\n",
    "    d_w1 = torch.matmul(torch.transpose(X, 0, 1), d_z1)\n",
    "    d_b1 = d_z1\n",
    "    \n",
    "    # Update weights\n",
    "    w2 = w2 - learning_rate * d_w2\n",
    "    b2 = b2 - learning_rate * torch.mean(d_b2, 0)\n",
    "    w1 = w1 - learning_rate * d_w1\n",
    "    b1 = b1 - learning_rate * torch.mean(d_b1, 0)\n",
    "    \n",
    "    if epoch % 1000 == 0:\n",
    "        print('Epoch: {}/{} Cost: {:6f}'.format(epoch, n_epoch, cost.item()))"
   ]
  },
  {
   "cell_type": "code",
   "execution_count": 12,
   "metadata": {},
   "outputs": [
    {
     "data": {
      "text/plain": [
       "tensor([[6.0415e-04],\n",
       "        [9.9978e-01],\n",
       "        [9.9978e-01],\n",
       "        [2.3343e-04]])"
      ]
     },
     "execution_count": 12,
     "metadata": {},
     "output_type": "execute_result"
    }
   ],
   "source": [
    "a2"
   ]
  },
  {
   "cell_type": "markdown",
   "metadata": {},
   "source": [
    "## XOR NN with PyTorch"
   ]
  },
  {
   "cell_type": "code",
   "execution_count": 13,
   "metadata": {},
   "outputs": [],
   "source": [
    "X = torch.FloatTensor([[0, 0], [0, 1], [1, 0], [1, 1]])\n",
    "Y = torch.FloatTensor([[0], [1], [1], [0]])"
   ]
  },
  {
   "cell_type": "code",
   "execution_count": 14,
   "metadata": {},
   "outputs": [],
   "source": [
    "linear1 = torch.nn.Linear(2, 2, bias=True)\n",
    "linear2 = torch.nn.Linear(2, 1, bias=True)\n",
    "sigmoid = torch.nn.Sigmoid()\n",
    "model = torch.nn.Sequential(linear1,\n",
    "                            sigmoid,\n",
    "                            linear2,\n",
    "                            sigmoid)"
   ]
  },
  {
   "cell_type": "code",
   "execution_count": 15,
   "metadata": {},
   "outputs": [],
   "source": [
    "criterion = torch.nn.BCELoss()\n",
    "optimizer = torch.optim.SGD(model.parameters(), lr=1)"
   ]
  },
  {
   "cell_type": "code",
   "execution_count": 16,
   "metadata": {},
   "outputs": [
    {
     "name": "stdout",
     "output_type": "stream",
     "text": [
      "Epoch: 0/10000 Loss: 0.699361\n",
      "Epoch: 1000/10000 Loss: 0.212304\n",
      "Epoch: 2000/10000 Loss: 0.009619\n",
      "Epoch: 3000/10000 Loss: 0.004765\n",
      "Epoch: 4000/10000 Loss: 0.003154\n",
      "Epoch: 5000/10000 Loss: 0.002354\n",
      "Epoch: 6000/10000 Loss: 0.001876\n",
      "Epoch: 7000/10000 Loss: 0.001559\n",
      "Epoch: 8000/10000 Loss: 0.001333\n",
      "Epoch: 9000/10000 Loss: 0.001165\n"
     ]
    }
   ],
   "source": [
    "n_epoch = 10000\n",
    "for epoch in range(n_epoch):\n",
    "    optimizer.zero_grad()\n",
    "    output = model(X)\n",
    "    loss = criterion(output, Y)\n",
    "    loss.backward()\n",
    "    optimizer.step()\n",
    "    \n",
    "    if epoch % 1000 == 0:\n",
    "        print('Epoch: {}/{} Loss: {:6f}'.format(epoch, n_epoch, loss.item()))"
   ]
  },
  {
   "cell_type": "code",
   "execution_count": 17,
   "metadata": {},
   "outputs": [
    {
     "data": {
      "text/plain": [
       "tensor([[9.8622e-04],\n",
       "        [9.9908e-01],\n",
       "        [9.9864e-01],\n",
       "        [8.6113e-04]], grad_fn=<SigmoidBackward>)"
      ]
     },
     "execution_count": 17,
     "metadata": {},
     "output_type": "execute_result"
    }
   ],
   "source": [
    "output"
   ]
  },
  {
   "cell_type": "markdown",
   "metadata": {},
   "source": [
    "## XOR Deep NN"
   ]
  },
  {
   "cell_type": "code",
   "execution_count": 18,
   "metadata": {},
   "outputs": [],
   "source": [
    "X = torch.FloatTensor([[0, 0], [0, 1], [1, 0], [1, 1]])\n",
    "Y = torch.FloatTensor([[0], [1], [1], [0]])"
   ]
  },
  {
   "cell_type": "code",
   "execution_count": 19,
   "metadata": {},
   "outputs": [],
   "source": [
    "linear1 = torch.nn.Linear(2, 10, bias=True)\n",
    "linear2 = torch.nn.Linear(10, 10, bias=True)\n",
    "linear3 = torch.nn.Linear(10, 10, bias=True)\n",
    "linear4 = torch.nn.Linear(10, 1, bias=True)\n",
    "sigmoid = torch.nn.Sigmoid()\n",
    "model = torch.nn.Sequential(linear1, sigmoid,\n",
    "                            linear2, sigmoid,\n",
    "                            linear3, sigmoid,\n",
    "                            linear4, sigmoid)"
   ]
  },
  {
   "cell_type": "code",
   "execution_count": 20,
   "metadata": {},
   "outputs": [],
   "source": [
    "criterion = torch.nn.BCELoss()\n",
    "optimizer = torch.optim.SGD(model.parameters(), lr=1)"
   ]
  },
  {
   "cell_type": "code",
   "execution_count": 21,
   "metadata": {},
   "outputs": [
    {
     "name": "stdout",
     "output_type": "stream",
     "text": [
      "Epoch: 0/10000 Loss: 0.817757\n",
      "Epoch: 1000/10000 Loss: 0.693139\n",
      "Epoch: 2000/10000 Loss: 0.693130\n",
      "Epoch: 3000/10000 Loss: 0.693115\n",
      "Epoch: 4000/10000 Loss: 0.693077\n",
      "Epoch: 5000/10000 Loss: 0.692920\n",
      "Epoch: 6000/10000 Loss: 0.686260\n",
      "Epoch: 7000/10000 Loss: 0.001585\n",
      "Epoch: 8000/10000 Loss: 0.000553\n",
      "Epoch: 9000/10000 Loss: 0.000324\n"
     ]
    }
   ],
   "source": [
    "n_epoch = 10000\n",
    "for epoch in range(n_epoch):\n",
    "    optimizer.zero_grad()\n",
    "    output = model(X)\n",
    "    loss = criterion(output, Y)\n",
    "    loss.backward()\n",
    "    optimizer.step()\n",
    "    \n",
    "    if epoch % 1000 == 0:\n",
    "        print('Epoch: {}/{} Loss: {:6f}'.format(epoch, n_epoch, loss.item()))"
   ]
  },
  {
   "cell_type": "code",
   "execution_count": 22,
   "metadata": {},
   "outputs": [
    {
     "data": {
      "text/plain": [
       "tensor([[2.0092e-04],\n",
       "        [9.9977e-01],\n",
       "        [9.9975e-01],\n",
       "        [2.2375e-04]], grad_fn=<SigmoidBackward>)"
      ]
     },
     "execution_count": 22,
     "metadata": {},
     "output_type": "execute_result"
    }
   ],
   "source": [
    "output"
   ]
  }
 ],
 "metadata": {
  "kernelspec": {
   "display_name": "Python 3",
   "language": "python",
   "name": "python3"
  },
  "language_info": {
   "codemirror_mode": {
    "name": "ipython",
    "version": 3
   },
   "file_extension": ".py",
   "mimetype": "text/x-python",
   "name": "python",
   "nbconvert_exporter": "python",
   "pygments_lexer": "ipython3",
   "version": "3.7.1"
  }
 },
 "nbformat": 4,
 "nbformat_minor": 4
}
