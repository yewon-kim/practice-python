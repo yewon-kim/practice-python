{
 "cells": [
  {
   "cell_type": "markdown",
   "metadata": {},
   "source": [
    "# Lab-09-1 ReLU"
   ]
  },
  {
   "cell_type": "code",
   "execution_count": 1,
   "metadata": {},
   "outputs": [],
   "source": [
    "import torch"
   ]
  },
  {
   "cell_type": "markdown",
   "metadata": {},
   "source": [
    "## MNIST Linear"
   ]
  },
  {
   "cell_type": "code",
   "execution_count": 2,
   "metadata": {},
   "outputs": [],
   "source": [
    "import torchvision.datasets as dsets\n",
    "import torchvision.transforms as transforms\n",
    "import matplotlib.pyplot as plt\n",
    "import random"
   ]
  },
  {
   "cell_type": "code",
   "execution_count": 3,
   "metadata": {},
   "outputs": [],
   "source": [
    "mnist_train = dsets.MNIST(root=\"MNIST_data/\", train=True, \n",
    "    transform=transforms.ToTensor(), download=False)\n",
    "mnist_test = dsets.MNIST(root=\"MNIST_data/\", train=False, \n",
    "    transform=transforms.ToTensor(), download=False)\n",
    "data_loader = torch.utils.data.DataLoader(mnist_train,\n",
    "                                          batch_size=64,\n",
    "                                          shuffle=True,\n",
    "                                          drop_last=True\n",
    "                                         )"
   ]
  },
  {
   "cell_type": "code",
   "execution_count": 4,
   "metadata": {},
   "outputs": [
    {
     "data": {
      "image/png": "[encoded data removed]",
      "text/plain": [
       "<Figure size 432x288 with 1 Axes>"
      ]
     },
     "metadata": {
      "needs_background": "light"
     },
     "output_type": "display_data"
    }
   ],
   "source": [
    "def plot_img(image):\n",
    "    image = image.numpy()[0]\n",
    "    plt.imshow(image,cmap='Greys')\n",
    "\n",
    "sample_data = next(iter(data_loader))\n",
    "plot_img(sample_data[0][1])"
   ]
  },
  {
   "cell_type": "code",
   "execution_count": 5,
   "metadata": {},
   "outputs": [
    {
     "data": {
      "text/plain": [
       "torch.Size([64, 1, 28, 28])"
      ]
     },
     "execution_count": 5,
     "metadata": {},
     "output_type": "execute_result"
    }
   ],
   "source": [
    "next(iter(data_loader))[0].size()"
   ]
  },
  {
   "cell_type": "code",
   "execution_count": 6,
   "metadata": {},
   "outputs": [
    {
     "data": {
      "text/plain": [
       "937"
      ]
     },
     "execution_count": 6,
     "metadata": {},
     "output_type": "execute_result"
    }
   ],
   "source": [
    "len(data_loader)"
   ]
  },
  {
   "cell_type": "code",
   "execution_count": 7,
   "metadata": {},
   "outputs": [],
   "source": [
    "learning_rate = 1e-3\n",
    "n_epochs = 15\n",
    "n_batches = len(data_loader)"
   ]
  },
  {
   "cell_type": "code",
   "execution_count": 8,
   "metadata": {},
   "outputs": [],
   "source": [
    "linear = torch.nn.Linear(784, 10, bias=True)\n",
    "model = torch.nn.Sequential(linear)"
   ]
  },
  {
   "cell_type": "code",
   "execution_count": 9,
   "metadata": {},
   "outputs": [
    {
     "data": {
      "text/plain": [
       "Parameter containing:\n",
       "tensor([[-0.1254, -1.0860,  0.0894,  ...,  0.7850,  0.9955, -1.0781],\n",
       "        [-0.5229,  2.3278,  0.6915,  ...,  0.1851,  0.1066,  1.4715],\n",
       "        [-0.5179, -0.8157,  1.4704,  ...,  0.4123, -1.0399, -0.2208],\n",
       "        ...,\n",
       "        [ 1.6477, -0.3893,  0.6379,  ..., -0.6210,  0.9640,  0.4377],\n",
       "        [ 0.5657,  2.7322, -0.8999,  ..., -0.0626, -0.7807, -1.1064],\n",
       "        [-1.2485, -1.3255, -0.5951,  ...,  0.5228, -0.5902,  1.6307]],\n",
       "       requires_grad=True)"
      ]
     },
     "execution_count": 9,
     "metadata": {},
     "output_type": "execute_result"
    }
   ],
   "source": [
    "torch.nn.init.normal_(linear.weight)"
   ]
  },
  {
   "cell_type": "code",
   "execution_count": 10,
   "metadata": {},
   "outputs": [],
   "source": [
    "criterion = torch.nn.CrossEntropyLoss()\n",
    "optimizer = torch.optim.Adam(linear.parameters(), lr=learning_rate)"
   ]
  },
  {
   "cell_type": "code",
   "execution_count": 11,
   "metadata": {
    "scrolled": true
   },
   "outputs": [
    {
     "name": "stdout",
     "output_type": "stream",
     "text": [
      "Epoch: 1 Cost: 4.46505880355835\n",
      "Epoch: 2 Cost: 1.2754671573638916\n",
      "Epoch: 3 Cost: 0.897098958492279\n",
      "Epoch: 4 Cost: 0.7334251403808594\n",
      "Epoch: 5 Cost: 0.6384686231613159\n",
      "Epoch: 6 Cost: 0.5755305886268616\n",
      "Epoch: 7 Cost: 0.5304577946662903\n",
      "Epoch: 8 Cost: 0.4962708652019501\n",
      "Epoch: 9 Cost: 0.46856197714805603\n",
      "Epoch: 10 Cost: 0.4458995759487152\n",
      "Epoch: 11 Cost: 0.4276565611362457\n",
      "Epoch: 12 Cost: 0.4111380875110626\n",
      "Epoch: 13 Cost: 0.39811065793037415\n",
      "Epoch: 14 Cost: 0.3857385218143463\n",
      "Epoch: 15 Cost: 0.3749738931655884\n"
     ]
    }
   ],
   "source": [
    "for epoch in range(n_epochs):\n",
    "    avg_loss = 0\n",
    "    for X, Y in data_loader:\n",
    "        X = X.view(-1, 784)\n",
    "        optimizer.zero_grad()\n",
    "        output = model(X)\n",
    "        loss = criterion(output, Y)\n",
    "        loss.backward()\n",
    "        optimizer.step()\n",
    "        avg_loss += loss / n_batches\n",
    "    \n",
    "    print(\"Epoch: {} Cost: {}\".format(epoch+1, avg_loss))"
   ]
  },
  {
   "cell_type": "code",
   "execution_count": 12,
   "metadata": {},
   "outputs": [
    {
     "name": "stdout",
     "output_type": "stream",
     "text": [
      "Accuracy: 0.888700008392334\n"
     ]
    },
    {
     "name": "stderr",
     "output_type": "stream",
     "text": [
      "C:\\Users\\user\\Anaconda3\\envs\\nlp\\lib\\site-packages\\torchvision\\datasets\\mnist.py:60: UserWarning: test_data has been renamed data\n",
      "  warnings.warn(\"test_data has been renamed data\")\n",
      "C:\\Users\\user\\Anaconda3\\envs\\nlp\\lib\\site-packages\\torchvision\\datasets\\mnist.py:50: UserWarning: test_labels has been renamed targets\n",
      "  warnings.warn(\"test_labels has been renamed targets\")\n"
     ]
    }
   ],
   "source": [
    "with torch.no_grad():\n",
    "    X_test = mnist_test.test_data.view(-1, 784).float()\n",
    "    Y_test = mnist_test.test_labels\n",
    "    \n",
    "    pred = model(X_test)\n",
    "    correct_pred = torch.argmax(pred, 1) == Y_test\n",
    "    accuracy = correct_pred.float().mean()\n",
    "    print(\"Accuracy: {}\".format(accuracy.item()))"
   ]
  },
  {
   "cell_type": "code",
   "execution_count": 13,
   "metadata": {},
   "outputs": [],
   "source": [
    "r = random.randint(0, len(mnist_test)-1)\n",
    "X_single_data = mnist_test.test_data[r:r+1].view(-1, 784).float()\n",
    "Y_single_data = mnist_test.test_labels[r:r+1]"
   ]
  },
  {
   "cell_type": "code",
   "execution_count": 14,
   "metadata": {},
   "outputs": [
    {
     "data": {
      "image/png": "[encoded data removed]",
      "text/plain": [
       "<Figure size 432x288 with 1 Axes>"
      ]
     },
     "metadata": {
      "needs_background": "light"
     },
     "output_type": "display_data"
    },
    {
     "name": "stdout",
     "output_type": "stream",
     "text": [
      "Prediction: 6\n",
      "Label: 6\n"
     ]
    }
   ],
   "source": [
    "plt.imshow(mnist_test.test_data[r:r+1].view(28, 28),\n",
    "           cmap=\"Greys\", interpolation=\"nearest\")\n",
    "plt.show()\n",
    "\n",
    "single_pred = model(X_single_data)\n",
    "print(\"Prediction: {}\".format(torch.argmax(single_pred, 1).item()))\n",
    "print(\"Label: {}\".format(Y_single_data.item()))"
   ]
  },
  {
   "cell_type": "markdown",
   "metadata": {},
   "source": [
    "## MNIST NN"
   ]
  },
  {
   "cell_type": "code",
   "execution_count": 15,
   "metadata": {},
   "outputs": [],
   "source": [
    "linear1 = torch.nn.Linear(784, 256, bias=True)\n",
    "linear2 = torch.nn.Linear(256, 256, bias=True)\n",
    "linear3 = torch.nn.Linear(256, 10, bias=True)\n",
    "relu = torch.nn.ReLU()\n",
    "\n",
    "torch.nn.init.normal_(linear1.weight)\n",
    "torch.nn.init.normal_(linear2.weight)\n",
    "torch.nn.init.normal_(linear3.weight)\n",
    "\n",
    "model = torch.nn.Sequential(linear1, relu, \n",
    "                            linear2, relu, \n",
    "                            linear3)\n",
    "criterion = torch.nn.CrossEntropyLoss()\n",
    "optimizer = torch.optim.Adam(model.parameters(), lr=learning_rate)"
   ]
  },
  {
   "cell_type": "code",
   "execution_count": 16,
   "metadata": {},
   "outputs": [
    {
     "name": "stdout",
     "output_type": "stream",
     "text": [
      "Epoch: 1 Cost: 117.457275390625\n",
      "Epoch: 2 Cost: 31.411104202270508\n",
      "Epoch: 3 Cost: 19.11423683166504\n",
      "Epoch: 4 Cost: 12.753639221191406\n",
      "Epoch: 5 Cost: 8.81065559387207\n",
      "Epoch: 6 Cost: 6.160829067230225\n",
      "Epoch: 7 Cost: 4.364480018615723\n",
      "Epoch: 8 Cost: 3.1476540565490723\n",
      "Epoch: 9 Cost: 2.4133176803588867\n",
      "Epoch: 10 Cost: 1.8548959493637085\n",
      "Epoch: 11 Cost: 1.4111295938491821\n",
      "Epoch: 12 Cost: 1.0138040781021118\n",
      "Epoch: 13 Cost: 0.8798877596855164\n",
      "Epoch: 14 Cost: 0.8263136148452759\n",
      "Epoch: 15 Cost: 0.578014612197876\n"
     ]
    }
   ],
   "source": [
    "for epoch in range(n_epochs):\n",
    "    avg_loss = 0\n",
    "    for X, Y in data_loader:\n",
    "        X = X.view(-1, 784)\n",
    "        optimizer.zero_grad()\n",
    "        output = model(X)\n",
    "        loss = criterion(output, Y)\n",
    "        loss.backward()\n",
    "        optimizer.step()\n",
    "        avg_loss += loss / n_batches\n",
    "    \n",
    "    print(\"Epoch: {} Cost: {}\".format(epoch+1, avg_loss))"
   ]
  },
  {
   "cell_type": "code",
   "execution_count": 17,
   "metadata": {},
   "outputs": [
    {
     "name": "stdout",
     "output_type": "stream",
     "text": [
      "Accuracy: 0.9470000267028809\n"
     ]
    }
   ],
   "source": [
    "with torch.no_grad():\n",
    "    X_test = mnist_test.test_data.view(-1, 784).float()\n",
    "    Y_test = mnist_test.test_labels\n",
    "    \n",
    "    pred = model(X_test)\n",
    "    correct_pred = torch.argmax(pred, 1) == Y_test\n",
    "    accuracy = correct_pred.float().mean()\n",
    "    print(\"Accuracy: {}\".format(accuracy.item()))"
   ]
  },
  {
   "cell_type": "code",
   "execution_count": 18,
   "metadata": {},
   "outputs": [
    {
     "data": {
      "image/png": "[encoded data removed]",
      "text/plain": [
       "<Figure size 432x288 with 1 Axes>"
      ]
     },
     "metadata": {
      "needs_background": "light"
     },
     "output_type": "display_data"
    },
    {
     "name": "stdout",
     "output_type": "stream",
     "text": [
      "Prediction: 6\n",
      "Label: 6\n"
     ]
    }
   ],
   "source": [
    "plt.imshow(mnist_test.test_data[r:r+1].view(28, 28),\n",
    "           cmap=\"Greys\", interpolation=\"nearest\")\n",
    "plt.show()\n",
    "\n",
    "single_pred = model(X_single_data)\n",
    "print(\"Prediction: {}\".format(torch.argmax(single_pred, 1).item()))\n",
    "print(\"Label: {}\".format(Y_single_data.item()))"
   ]
  }
 ],
 "metadata": {
  "kernelspec": {
   "display_name": "Python 3",
   "language": "python",
   "name": "python3"
  },
  "language_info": {
   "codemirror_mode": {
    "name": "ipython",
    "version": 3
   },
   "file_extension": ".py",
   "mimetype": "text/x-python",
   "name": "python",
   "nbconvert_exporter": "python",
   "pygments_lexer": "ipython3",
   "version": "3.7.1"
  }
 },
 "nbformat": 4,
 "nbformat_minor": 4
}
