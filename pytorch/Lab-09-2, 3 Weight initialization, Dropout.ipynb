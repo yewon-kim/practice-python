{
 "cells": [
  {
   "cell_type": "markdown",
   "metadata": {},
   "source": [
    "# Lab-09-2 Weight initialization"
   ]
  },
  {
   "cell_type": "code",
   "execution_count": 1,
   "metadata": {},
   "outputs": [],
   "source": [
    "import torch\n",
    "import torchvision.datasets as dsets\n",
    "import torchvision.transforms as transforms\n",
    "import matplotlib.pyplot as plt\n",
    "import random"
   ]
  },
  {
   "cell_type": "code",
   "execution_count": 2,
   "metadata": {},
   "outputs": [],
   "source": [
    "mnist_train = dsets.MNIST(root=\"MNIST_data/\", train=True, \n",
    "    transform=transforms.ToTensor(), download=False)\n",
    "mnist_test = dsets.MNIST(root=\"MNIST_data/\", train=False, \n",
    "    transform=transforms.ToTensor(), download=False)\n",
    "data_loader = torch.utils.data.DataLoader(mnist_train,\n",
    "                                          batch_size=64,\n",
    "                                          shuffle=True,\n",
    "                                          drop_last=True\n",
    "                                         )"
   ]
  },
  {
   "cell_type": "code",
   "execution_count": 3,
   "metadata": {},
   "outputs": [],
   "source": [
    "learning_rate = 1e-3\n",
    "n_epochs = 15\n",
    "n_batches = len(data_loader)"
   ]
  },
  {
   "cell_type": "markdown",
   "metadata": {},
   "source": [
    "## Xavier Initialization"
   ]
  },
  {
   "cell_type": "code",
   "execution_count": 5,
   "metadata": {},
   "outputs": [
    {
     "data": {
      "text/plain": [
       "Parameter containing:\n",
       "tensor([[ 0.0020,  0.0501,  0.0260,  ...,  0.0965,  0.0749,  0.1139],\n",
       "        [ 0.1014, -0.0256, -0.0242,  ...,  0.1049,  0.1398,  0.1210],\n",
       "        [-0.0333, -0.0181,  0.0635,  ...,  0.0672,  0.1252,  0.1234],\n",
       "        ...,\n",
       "        [-0.0101,  0.0077, -0.1017,  ..., -0.0731,  0.0356, -0.0274],\n",
       "        [-0.0438, -0.0434, -0.1463,  ...,  0.0982,  0.0260, -0.0800],\n",
       "        [ 0.0196, -0.0416,  0.0125,  ...,  0.0007, -0.0368,  0.1416]],\n",
       "       requires_grad=True)"
      ]
     },
     "execution_count": 5,
     "metadata": {},
     "output_type": "execute_result"
    }
   ],
   "source": [
    "linear1 = torch.nn.Linear(784, 256, bias=True)\n",
    "linear2 = torch.nn.Linear(256, 256, bias=True)\n",
    "linear3 = torch.nn.Linear(256, 10, bias=True)\n",
    "relu = torch.nn.ReLU()\n",
    "\n",
    "torch.nn.init.xavier_uniform_(linear1.weight)\n",
    "torch.nn.init.xavier_uniform_(linear2.weight)\n",
    "torch.nn.init.xavier_uniform_(linear3.weight)"
   ]
  },
  {
   "cell_type": "code",
   "execution_count": 6,
   "metadata": {},
   "outputs": [],
   "source": [
    "model = torch.nn.Sequential(linear1, relu, \n",
    "                            linear2, relu, \n",
    "                            linear3)\n",
    "criterion = torch.nn.CrossEntropyLoss()\n",
    "optimizer = torch.optim.Adam(model.parameters(), lr=learning_rate)"
   ]
  },
  {
   "cell_type": "code",
   "execution_count": 7,
   "metadata": {},
   "outputs": [
    {
     "name": "stdout",
     "output_type": "stream",
     "text": [
      "Epoch: 1 Cost: 0.21691398322582245\n",
      "Epoch: 2 Cost: 0.08538837730884552\n",
      "Epoch: 3 Cost: 0.05708051472902298\n",
      "Epoch: 4 Cost: 0.04004073888063431\n",
      "Epoch: 5 Cost: 0.03275870531797409\n",
      "Epoch: 6 Cost: 0.026575565338134766\n",
      "Epoch: 7 Cost: 0.02208746410906315\n",
      "Epoch: 8 Cost: 0.020598605275154114\n",
      "Epoch: 9 Cost: 0.014723679050803185\n",
      "Epoch: 10 Cost: 0.015600338578224182\n",
      "Epoch: 11 Cost: 0.014910999685525894\n",
      "Epoch: 12 Cost: 0.01259804517030716\n",
      "Epoch: 13 Cost: 0.009844214655458927\n",
      "Epoch: 14 Cost: 0.010587536729872227\n",
      "Epoch: 15 Cost: 0.012311047874391079\n"
     ]
    }
   ],
   "source": [
    "for epoch in range(n_epochs):\n",
    "    avg_loss = 0\n",
    "    for X, Y in data_loader:\n",
    "        X = X.view(-1, 784)\n",
    "        optimizer.zero_grad()\n",
    "        output = model(X)\n",
    "        loss = criterion(output, Y)\n",
    "        loss.backward()\n",
    "        optimizer.step()\n",
    "        avg_loss += loss / n_batches\n",
    "    \n",
    "    print(\"Epoch: {} Cost: {}\".format(epoch+1, avg_loss))"
   ]
  },
  {
   "cell_type": "code",
   "execution_count": 8,
   "metadata": {},
   "outputs": [
    {
     "name": "stdout",
     "output_type": "stream",
     "text": [
      "Accuracy: 0.9805999994277954\n"
     ]
    },
    {
     "name": "stderr",
     "output_type": "stream",
     "text": [
      "C:\\Users\\user\\Anaconda3\\envs\\nlp\\lib\\site-packages\\torchvision\\datasets\\mnist.py:60: UserWarning: test_data has been renamed data\n",
      "  warnings.warn(\"test_data has been renamed data\")\n",
      "C:\\Users\\user\\Anaconda3\\envs\\nlp\\lib\\site-packages\\torchvision\\datasets\\mnist.py:50: UserWarning: test_labels has been renamed targets\n",
      "  warnings.warn(\"test_labels has been renamed targets\")\n"
     ]
    }
   ],
   "source": [
    "with torch.no_grad():\n",
    "    X_test = mnist_test.test_data.view(-1, 784).float()\n",
    "    Y_test = mnist_test.test_labels\n",
    "    \n",
    "    pred = model(X_test)\n",
    "    correct_pred = torch.argmax(pred, 1) == Y_test\n",
    "    accuracy = correct_pred.float().mean()\n",
    "    print(\"Accuracy: {}\".format(accuracy.item()))"
   ]
  },
  {
   "cell_type": "markdown",
   "metadata": {},
   "source": [
    "# Lab-09-3 Dropout"
   ]
  },
  {
   "cell_type": "code",
   "execution_count": 13,
   "metadata": {},
   "outputs": [
    {
     "data": {
      "text/plain": [
       "Parameter containing:\n",
       "tensor([[-0.0552,  0.0067, -0.1462,  ..., -0.0670, -0.1451, -0.0183],\n",
       "        [-0.1340, -0.1407,  0.1153,  ..., -0.0196, -0.0144, -0.0006],\n",
       "        [-0.1484, -0.0331,  0.0070,  ..., -0.0917, -0.0694,  0.0797],\n",
       "        ...,\n",
       "        [ 0.0899, -0.0299, -0.0047,  ..., -0.1087,  0.0392,  0.1307],\n",
       "        [-0.1126, -0.1444, -0.0798,  ..., -0.1301, -0.1408,  0.0884],\n",
       "        [ 0.1244,  0.0938,  0.1329,  ...,  0.0330, -0.0098, -0.1262]],\n",
       "       requires_grad=True)"
      ]
     },
     "execution_count": 13,
     "metadata": {},
     "output_type": "execute_result"
    }
   ],
   "source": [
    "linear1 = torch.nn.Linear(784, 256, bias=True)\n",
    "linear2 = torch.nn.Linear(256, 256, bias=True)\n",
    "linear3 = torch.nn.Linear(256, 10, bias=True)\n",
    "relu = torch.nn.ReLU()\n",
    "dropout = torch.nn.Dropout(p=0.5)\n",
    "\n",
    "torch.nn.init.xavier_uniform_(linear1.weight)\n",
    "torch.nn.init.xavier_uniform_(linear2.weight)\n",
    "torch.nn.init.xavier_uniform_(linear3.weight)"
   ]
  },
  {
   "cell_type": "code",
   "execution_count": 14,
   "metadata": {},
   "outputs": [],
   "source": [
    "model = torch.nn.Sequential(linear1, relu, dropout, \n",
    "                            linear2, relu, dropout, \n",
    "                            linear3)\n",
    "criterion = torch.nn.CrossEntropyLoss()\n",
    "optimizer = torch.optim.Adam(model.parameters(), lr=learning_rate)"
   ]
  },
  {
   "cell_type": "code",
   "execution_count": 15,
   "metadata": {},
   "outputs": [
    {
     "name": "stdout",
     "output_type": "stream",
     "text": [
      "Epoch: 1 Cost: 0.4149174690246582\n",
      "Epoch: 2 Cost: 0.20577938854694366\n",
      "Epoch: 3 Cost: 0.16741079092025757\n",
      "Epoch: 4 Cost: 0.14535097777843475\n",
      "Epoch: 5 Cost: 0.13062024116516113\n",
      "Epoch: 6 Cost: 0.12106368690729141\n",
      "Epoch: 7 Cost: 0.11250791698694229\n",
      "Epoch: 8 Cost: 0.10650661587715149\n",
      "Epoch: 9 Cost: 0.09896581619977951\n",
      "Epoch: 10 Cost: 0.09910891950130463\n",
      "Epoch: 11 Cost: 0.0920320600271225\n",
      "Epoch: 12 Cost: 0.09067228436470032\n",
      "Epoch: 13 Cost: 0.08724194765090942\n",
      "Epoch: 14 Cost: 0.08798177540302277\n",
      "Epoch: 15 Cost: 0.08296672999858856\n"
     ]
    }
   ],
   "source": [
    "model.train()\n",
    "for epoch in range(n_epochs):\n",
    "    avg_loss = 0\n",
    "    for X, Y in data_loader:\n",
    "        X = X.view(-1, 784)\n",
    "        optimizer.zero_grad()\n",
    "        output = model(X)\n",
    "        loss = criterion(output, Y)\n",
    "        loss.backward()\n",
    "        optimizer.step()\n",
    "        avg_loss += loss / n_batches\n",
    "    \n",
    "    print(\"Epoch: {} Cost: {}\".format(epoch+1, avg_loss))"
   ]
  },
  {
   "cell_type": "code",
   "execution_count": 16,
   "metadata": {},
   "outputs": [
    {
     "name": "stdout",
     "output_type": "stream",
     "text": [
      "Accuracy: 0.9764000177383423\n"
     ]
    }
   ],
   "source": [
    "with torch.no_grad():\n",
    "    model.eval()\n",
    "    X_test = mnist_test.test_data.view(-1, 784).float()\n",
    "    Y_test = mnist_test.test_labels\n",
    "    \n",
    "    pred = model(X_test)\n",
    "    correct_pred = torch.argmax(pred, 1) == Y_test\n",
    "    accuracy = correct_pred.float().mean()\n",
    "    print(\"Accuracy: {}\".format(accuracy.item()))"
   ]
  }
 ],
 "metadata": {
  "kernelspec": {
   "display_name": "Python 3",
   "language": "python",
   "name": "python3"
  },
  "language_info": {
   "codemirror_mode": {
    "name": "ipython",
    "version": 3
   },
   "file_extension": ".py",
   "mimetype": "text/x-python",
   "name": "python",
   "nbconvert_exporter": "python",
   "pygments_lexer": "ipython3",
   "version": "3.7.1"
  }
 },
 "nbformat": 4,
 "nbformat_minor": 4
}
