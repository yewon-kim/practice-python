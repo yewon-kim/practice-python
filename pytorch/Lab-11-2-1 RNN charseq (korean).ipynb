{
 "cells": [
  {
   "cell_type": "markdown",
   "metadata": {},
   "source": [
    "# Lab-11-2 RNN Korean Character Sequence Exercise"
   ]
  },
  {
   "cell_type": "code",
   "execution_count": 1,
   "metadata": {},
   "outputs": [],
   "source": [
    "import numpy as np\n",
    "\n",
    "import torch\n",
    "from torch import nn\n",
    "import torch.nn.functional as F\n",
    "import torch.optim as optim"
   ]
  },
  {
   "cell_type": "markdown",
   "metadata": {},
   "source": [
    "![](https://www.i2tutorials.com/wp-content/media/2019/09/Neural-network-62-i2tutorials.png)"
   ]
  },
  {
   "cell_type": "markdown",
   "metadata": {},
   "source": [
    "## Data"
   ]
  },
  {
   "cell_type": "code",
   "execution_count": 2,
   "metadata": {},
   "outputs": [],
   "source": [
    "sample = \"보고 싶다 또 몇 밤을 더 새워야 널 보게 될까\""
   ]
  },
  {
   "cell_type": "code",
   "execution_count": 3,
   "metadata": {},
   "outputs": [],
   "source": [
    "char_set = list(set(sample))\n",
    "char_dic = {c: i for i, c in enumerate(char_set)}"
   ]
  },
  {
   "cell_type": "code",
   "execution_count": 4,
   "metadata": {},
   "outputs": [],
   "source": [
    "dic_size = len(char_dic)"
   ]
  },
  {
   "cell_type": "code",
   "execution_count": 5,
   "metadata": {},
   "outputs": [],
   "source": [
    "sample_idx = [char_dic[c] for c in sample]"
   ]
  },
  {
   "cell_type": "code",
   "execution_count": 6,
   "metadata": {},
   "outputs": [],
   "source": [
    "x_data = [sample_idx[:-1]]"
   ]
  },
  {
   "cell_type": "code",
   "execution_count": 7,
   "metadata": {},
   "outputs": [],
   "source": [
    "x_one_hot = [np.eye(dic_size)[x] for x in x_data]"
   ]
  },
  {
   "cell_type": "code",
   "execution_count": 8,
   "metadata": {},
   "outputs": [],
   "source": [
    "y_data = [sample_idx[1:]]"
   ]
  },
  {
   "cell_type": "code",
   "execution_count": 9,
   "metadata": {
    "scrolled": false
   },
   "outputs": [],
   "source": [
    "X = torch.FloatTensor(x_one_hot)\n",
    "Y = torch.LongTensor(y_data)"
   ]
  },
  {
   "cell_type": "markdown",
   "metadata": {},
   "source": [
    "## Hyperparameters"
   ]
  },
  {
   "cell_type": "code",
   "execution_count": 10,
   "metadata": {},
   "outputs": [],
   "source": [
    "input_size = dic_size\n",
    "hidden_size = dic_size\n",
    "learning_rate = 1e-1"
   ]
  },
  {
   "cell_type": "markdown",
   "metadata": {},
   "source": [
    "## Model"
   ]
  },
  {
   "cell_type": "code",
   "execution_count": 11,
   "metadata": {},
   "outputs": [],
   "source": [
    "rnn = nn.RNN(input_size, hidden_size, batch_first=True)\n",
    "criterion = nn.CrossEntropyLoss()\n",
    "optimizer = optim.Adam(rnn.parameters(), learning_rate)"
   ]
  },
  {
   "cell_type": "markdown",
   "metadata": {},
   "source": [
    "## Train"
   ]
  },
  {
   "cell_type": "code",
   "execution_count": 12,
   "metadata": {
    "scrolled": false
   },
   "outputs": [
    {
     "name": "stdout",
     "output_type": "stream",
     "text": [
      "Epoch: 0 Loss: 2.8014047145843506\n",
      "다다고다고고고고다될다보 까고다고고될 고다고고까\n",
      "Epoch: 10 Loss: 1.6601847410202026\n",
      "고 싶또 또 또 밤또 또 또 또 또 또  보까\n",
      "Epoch: 20 Loss: 1.4684534072875977\n",
      "고 싶다 또 몇 밤을 더 새워야 널 보게새될까\n",
      "Epoch: 30 Loss: 1.3940030336380005\n",
      "고 싶다 새 몇을밤을 더 새워야 널 보게새될까\n",
      "Epoch: 40 Loss: 1.3271101713180542\n",
      "고 싶다 또 몇 밤을 더 새워야 널 보게새될까\n",
      "Epoch: 50 Loss: 1.2848076820373535\n",
      "고 싶다 또 몇 밤을 더 새워야 널 보게 될까\n",
      "Epoch: 60 Loss: 1.2584545612335205\n",
      "고 싶다 또 몇 밤을 더 새워야 널 보게 될까\n",
      "Epoch: 70 Loss: 1.2454155683517456\n",
      "고 싶다 또 몇 밤을 더 새워야 널 보게 될까\n",
      "Epoch: 80 Loss: 1.2367122173309326\n",
      "고 싶다 또 몇 밤을 더 새워야 널 보게 될까\n",
      "Epoch: 90 Loss: 1.2275733947753906\n",
      "고 싶다 또 몇 밤을 더 새워야 널 보게 될까\n"
     ]
    }
   ],
   "source": [
    "epochs = 100\n",
    "for epoch in range(epochs):\n",
    "    optimizer.zero_grad()\n",
    "    outputs, _status = rnn(X)\n",
    "    loss = criterion(outputs.view(-1, input_size), Y.view(-1))\n",
    "    loss.backward()\n",
    "    optimizer.step()\n",
    "    \n",
    "    result = outputs.data.numpy().argmax(axis=2)\n",
    "    result_str = ''.join([char_set[c] for c in np.squeeze(result)])\n",
    "    \n",
    "    if epoch % 10 == 0:\n",
    "        print('Epoch:', epoch, 'Loss:', loss.item())\n",
    "        print(result_str)"
   ]
  }
 ],
 "metadata": {
  "kernelspec": {
   "display_name": "Python 3",
   "language": "python",
   "name": "python3"
  },
  "language_info": {
   "codemirror_mode": {
    "name": "ipython",
    "version": 3
   },
   "file_extension": ".py",
   "mimetype": "text/x-python",
   "name": "python",
   "nbconvert_exporter": "python",
   "pygments_lexer": "ipython3",
   "version": "3.7.1"
  }
 },
 "nbformat": 4,
 "nbformat_minor": 4
}
