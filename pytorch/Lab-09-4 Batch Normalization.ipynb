{
 "cells": [
  {
   "cell_type": "markdown",
   "metadata": {},
   "source": [
    "# Lab-09-4 Batch Normalization"
   ]
  },
  {
   "cell_type": "code",
   "execution_count": 1,
   "metadata": {},
   "outputs": [],
   "source": [
    "import torch\n",
    "import torchvision.datasets as dsets\n",
    "import torchvision.transforms as transforms\n",
    "import matplotlib.pyplot as plt\n",
    "import random"
   ]
  },
  {
   "cell_type": "code",
   "execution_count": 2,
   "metadata": {},
   "outputs": [],
   "source": [
    "mnist_train = dsets.MNIST(root=\"MNIST_data/\", train=True, \n",
    "    transform=transforms.ToTensor(), download=False)\n",
    "mnist_test = dsets.MNIST(root=\"MNIST_data/\", train=False, \n",
    "    transform=transforms.ToTensor(), download=False)\n",
    "data_loader = torch.utils.data.DataLoader(mnist_train,\n",
    "                                          batch_size=64,\n",
    "                                          shuffle=True,\n",
    "                                          drop_last=True\n",
    "                                         )"
   ]
  },
  {
   "cell_type": "code",
   "execution_count": 3,
   "metadata": {},
   "outputs": [],
   "source": [
    "learning_rate = 1e-2\n",
    "n_epochs = 10\n",
    "n_batches = len(data_loader)"
   ]
  },
  {
   "cell_type": "markdown",
   "metadata": {},
   "source": [
    "### NN model"
   ]
  },
  {
   "cell_type": "code",
   "execution_count": 4,
   "metadata": {},
   "outputs": [],
   "source": [
    "nn_linear1 = torch.nn.Linear(784, 64, bias=True)\n",
    "nn_linear2 = torch.nn.Linear(64, 32, bias=True)\n",
    "nn_linear3 = torch.nn.Linear(32, 10, bias=True)\n",
    "relu = torch.nn.ReLU()\n",
    "\n",
    "nn_model = torch.nn.Sequential(nn_linear1, relu, \n",
    "                               nn_linear2, relu, \n",
    "                               nn_linear3)"
   ]
  },
  {
   "cell_type": "markdown",
   "metadata": {},
   "source": [
    "### Batch Normalized NN model"
   ]
  },
  {
   "cell_type": "code",
   "execution_count": 5,
   "metadata": {},
   "outputs": [],
   "source": [
    "linear1 = torch.nn.Linear(784, 32, bias=True)\n",
    "linear2 = torch.nn.Linear(32, 32, bias=True)\n",
    "linear3 = torch.nn.Linear(32, 10, bias=True)\n",
    "relu = torch.nn.ReLU()\n",
    "bn1 = torch.nn.BatchNorm1d(32)\n",
    "bn2 = torch.nn.BatchNorm1d(32)\n",
    "\n",
    "bn_model = torch.nn.Sequential(linear1, bn1, relu, \n",
    "                               linear2, bn2, relu, \n",
    "                               linear3)"
   ]
  },
  {
   "cell_type": "code",
   "execution_count": 6,
   "metadata": {},
   "outputs": [],
   "source": [
    "criterion = torch.nn.CrossEntropyLoss()\n",
    "bn_optimizer = torch.optim.Adam(bn_model.parameters(), lr=learning_rate)\n",
    "nn_optimizer = torch.optim.Adam(nn_model.parameters(), lr=learning_rate)"
   ]
  },
  {
   "cell_type": "code",
   "execution_count": 7,
   "metadata": {},
   "outputs": [
    {
     "name": "stdout",
     "output_type": "stream",
     "text": [
      "Epoch: 1 BN Model Loss: 0.18945765495300293\n",
      "Epoch: 1 NN Model Loss: 0.22904567420482635\n",
      "Epoch: 2 BN Model Loss: 0.13865798711776733\n",
      "Epoch: 2 NN Model Loss: 0.07300636917352676\n",
      "Epoch: 3 BN Model Loss: 0.06534912437200546\n",
      "Epoch: 3 NN Model Loss: 0.1088194027543068\n",
      "Epoch: 4 BN Model Loss: 0.0756344124674797\n",
      "Epoch: 4 NN Model Loss: 0.10684674978256226\n",
      "Epoch: 5 BN Model Loss: 0.028770361095666885\n",
      "Epoch: 5 NN Model Loss: 0.03032577410340309\n",
      "Epoch: 6 BN Model Loss: 0.033264074474573135\n",
      "Epoch: 6 NN Model Loss: 0.022927677258849144\n",
      "Epoch: 7 BN Model Loss: 0.08727558702230453\n",
      "Epoch: 7 NN Model Loss: 0.07747096568346024\n",
      "Epoch: 8 BN Model Loss: 0.024136528372764587\n",
      "Epoch: 8 NN Model Loss: 0.05801481753587723\n",
      "Epoch: 9 BN Model Loss: 0.02030828967690468\n",
      "Epoch: 9 NN Model Loss: 0.0010354926344007254\n",
      "Epoch: 10 BN Model Loss: 0.029558856040239334\n",
      "Epoch: 10 NN Model Loss: 0.01727069728076458\n"
     ]
    }
   ],
   "source": [
    "for epoch in range(n_epochs):\n",
    "    bn_model.train()\n",
    "    nn_model.train()\n",
    "    \n",
    "    for X, Y in data_loader:\n",
    "        X = X.view(-1, 784)\n",
    "        bn_optimizer.zero_grad()\n",
    "        bn_output = bn_model(X)\n",
    "        bn_loss = criterion(bn_output, Y)\n",
    "        bn_loss.backward()\n",
    "        bn_optimizer.step()\n",
    "        \n",
    "        nn_optimizer.zero_grad()\n",
    "        nn_output = nn_model(X)\n",
    "        nn_loss = criterion(nn_output, Y)\n",
    "        nn_loss.backward()\n",
    "        nn_optimizer.step()\n",
    "        \n",
    "    print(\"Epoch: {} BN Model Loss: {}\".format(epoch+1, bn_loss))\n",
    "    print(\"Epoch: {} NN Model Loss: {}\".format(epoch+1, nn_loss))"
   ]
  },
  {
   "cell_type": "code",
   "execution_count": 8,
   "metadata": {
    "scrolled": true
   },
   "outputs": [
    {
     "name": "stdout",
     "output_type": "stream",
     "text": [
      "BN Model Accuracy: 0.78329998254776\n",
      "NN Model Accuracy: 0.9675999879837036\n"
     ]
    },
    {
     "name": "stderr",
     "output_type": "stream",
     "text": [
      "C:\\Users\\user\\Anaconda3\\envs\\nlp\\lib\\site-packages\\torchvision\\datasets\\mnist.py:60: UserWarning: test_data has been renamed data\n",
      "  warnings.warn(\"test_data has been renamed data\")\n",
      "C:\\Users\\user\\Anaconda3\\envs\\nlp\\lib\\site-packages\\torchvision\\datasets\\mnist.py:50: UserWarning: test_labels has been renamed targets\n",
      "  warnings.warn(\"test_labels has been renamed targets\")\n"
     ]
    }
   ],
   "source": [
    "with torch.no_grad():\n",
    "    bn_model.eval()\n",
    "    nn_model.eval()\n",
    "    X_test = mnist_test.test_data.view(-1, 784).float()\n",
    "    Y_test = mnist_test.test_labels\n",
    "    \n",
    "    bn_pred = bn_model(X_test)\n",
    "    bn_correct_pred = torch.argmax(bn_pred, 1) == Y_test\n",
    "    bn_accuracy = bn_correct_pred.float().mean()\n",
    "    \n",
    "    nn_pred = nn_model(X_test)\n",
    "    nn_correct_pred = torch.argmax(nn_pred, 1) == Y_test\n",
    "    nn_accuracy = nn_correct_pred.float().mean()\n",
    "    \n",
    "    print(\"BN Model Accuracy: {}\".format(bn_accuracy.item()))\n",
    "    print(\"NN Model Accuracy: {}\".format(nn_accuracy.item()))"
   ]
  }
 ],
 "metadata": {
  "kernelspec": {
   "display_name": "Python 3",
   "language": "python",
   "name": "python3"
  },
  "language_info": {
   "codemirror_mode": {
    "name": "ipython",
    "version": 3
   },
   "file_extension": ".py",
   "mimetype": "text/x-python",
   "name": "python",
   "nbconvert_exporter": "python",
   "pygments_lexer": "ipython3",
   "version": "3.7.1"
  }
 },
 "nbformat": 4,
 "nbformat_minor": 4
}
